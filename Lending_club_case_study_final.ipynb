{
 "cells": [
  {
   "cell_type": "code",
   "execution_count": 1,
   "id": "3a2c3b23",
   "metadata": {
    "id": "3a2c3b23"
   },
   "outputs": [],
   "source": [
    "import numpy as np\n",
    "import pandas as pd\n",
    "import matplotlib.pyplot as plt\n",
    "import seaborn as sns\n",
    "import warnings\n",
    "from datetime import datetime\n",
    "today = datetime.today()\n",
    "warnings.filterwarnings('ignore')\n",
    "df=pd.read_csv(\"loan.csv\")"
   ]
  },
  {
   "cell_type": "markdown",
   "id": "a54c10d9-f608-440e-a3b1-179af47c31f8",
   "metadata": {
    "id": "a54c10d9-f608-440e-a3b1-179af47c31f8"
   },
   "source": [
    "## Basic Information about Data:"
   ]
  },
  {
   "cell_type": "code",
   "execution_count": 3,
   "id": "ef4582bb",
   "metadata": {
    "id": "ef4582bb",
    "outputId": "734fd460-fa26-48e4-8756-989ac4e6946c"
   },
   "outputs": [
    {
     "data": {
      "text/html": [
       "<div>\n",
       "<style scoped>\n",
       "    .dataframe tbody tr th:only-of-type {\n",
       "        vertical-align: middle;\n",
       "    }\n",
       "\n",
       "    .dataframe tbody tr th {\n",
       "        vertical-align: top;\n",
       "    }\n",
       "\n",
       "    .dataframe thead th {\n",
       "        text-align: right;\n",
       "    }\n",
       "</style>\n",
       "<table border=\"1\" class=\"dataframe\">\n",
       "  <thead>\n",
       "    <tr style=\"text-align: right;\">\n",
       "      <th></th>\n",
       "      <th>id</th>\n",
       "      <th>member_id</th>\n",
       "      <th>loan_amnt</th>\n",
       "      <th>funded_amnt</th>\n",
       "      <th>funded_amnt_inv</th>\n",
       "      <th>term</th>\n",
       "      <th>int_rate</th>\n",
       "      <th>installment</th>\n",
       "      <th>grade</th>\n",
       "      <th>sub_grade</th>\n",
       "      <th>...</th>\n",
       "      <th>num_tl_90g_dpd_24m</th>\n",
       "      <th>num_tl_op_past_12m</th>\n",
       "      <th>pct_tl_nvr_dlq</th>\n",
       "      <th>percent_bc_gt_75</th>\n",
       "      <th>pub_rec_bankruptcies</th>\n",
       "      <th>tax_liens</th>\n",
       "      <th>tot_hi_cred_lim</th>\n",
       "      <th>total_bal_ex_mort</th>\n",
       "      <th>total_bc_limit</th>\n",
       "      <th>total_il_high_credit_limit</th>\n",
       "    </tr>\n",
       "  </thead>\n",
       "  <tbody>\n",
       "    <tr>\n",
       "      <th>0</th>\n",
       "      <td>1077501</td>\n",
       "      <td>1296599</td>\n",
       "      <td>5000</td>\n",
       "      <td>5000</td>\n",
       "      <td>4975.0</td>\n",
       "      <td>36 months</td>\n",
       "      <td>10.65%</td>\n",
       "      <td>162.87</td>\n",
       "      <td>B</td>\n",
       "      <td>B2</td>\n",
       "      <td>...</td>\n",
       "      <td>NaN</td>\n",
       "      <td>NaN</td>\n",
       "      <td>NaN</td>\n",
       "      <td>NaN</td>\n",
       "      <td>0.0</td>\n",
       "      <td>0.0</td>\n",
       "      <td>NaN</td>\n",
       "      <td>NaN</td>\n",
       "      <td>NaN</td>\n",
       "      <td>NaN</td>\n",
       "    </tr>\n",
       "    <tr>\n",
       "      <th>1</th>\n",
       "      <td>1077430</td>\n",
       "      <td>1314167</td>\n",
       "      <td>2500</td>\n",
       "      <td>2500</td>\n",
       "      <td>2500.0</td>\n",
       "      <td>60 months</td>\n",
       "      <td>15.27%</td>\n",
       "      <td>59.83</td>\n",
       "      <td>C</td>\n",
       "      <td>C4</td>\n",
       "      <td>...</td>\n",
       "      <td>NaN</td>\n",
       "      <td>NaN</td>\n",
       "      <td>NaN</td>\n",
       "      <td>NaN</td>\n",
       "      <td>0.0</td>\n",
       "      <td>0.0</td>\n",
       "      <td>NaN</td>\n",
       "      <td>NaN</td>\n",
       "      <td>NaN</td>\n",
       "      <td>NaN</td>\n",
       "    </tr>\n",
       "    <tr>\n",
       "      <th>2</th>\n",
       "      <td>1077175</td>\n",
       "      <td>1313524</td>\n",
       "      <td>2400</td>\n",
       "      <td>2400</td>\n",
       "      <td>2400.0</td>\n",
       "      <td>36 months</td>\n",
       "      <td>15.96%</td>\n",
       "      <td>84.33</td>\n",
       "      <td>C</td>\n",
       "      <td>C5</td>\n",
       "      <td>...</td>\n",
       "      <td>NaN</td>\n",
       "      <td>NaN</td>\n",
       "      <td>NaN</td>\n",
       "      <td>NaN</td>\n",
       "      <td>0.0</td>\n",
       "      <td>0.0</td>\n",
       "      <td>NaN</td>\n",
       "      <td>NaN</td>\n",
       "      <td>NaN</td>\n",
       "      <td>NaN</td>\n",
       "    </tr>\n",
       "    <tr>\n",
       "      <th>3</th>\n",
       "      <td>1076863</td>\n",
       "      <td>1277178</td>\n",
       "      <td>10000</td>\n",
       "      <td>10000</td>\n",
       "      <td>10000.0</td>\n",
       "      <td>36 months</td>\n",
       "      <td>13.49%</td>\n",
       "      <td>339.31</td>\n",
       "      <td>C</td>\n",
       "      <td>C1</td>\n",
       "      <td>...</td>\n",
       "      <td>NaN</td>\n",
       "      <td>NaN</td>\n",
       "      <td>NaN</td>\n",
       "      <td>NaN</td>\n",
       "      <td>0.0</td>\n",
       "      <td>0.0</td>\n",
       "      <td>NaN</td>\n",
       "      <td>NaN</td>\n",
       "      <td>NaN</td>\n",
       "      <td>NaN</td>\n",
       "    </tr>\n",
       "    <tr>\n",
       "      <th>4</th>\n",
       "      <td>1075358</td>\n",
       "      <td>1311748</td>\n",
       "      <td>3000</td>\n",
       "      <td>3000</td>\n",
       "      <td>3000.0</td>\n",
       "      <td>60 months</td>\n",
       "      <td>12.69%</td>\n",
       "      <td>67.79</td>\n",
       "      <td>B</td>\n",
       "      <td>B5</td>\n",
       "      <td>...</td>\n",
       "      <td>NaN</td>\n",
       "      <td>NaN</td>\n",
       "      <td>NaN</td>\n",
       "      <td>NaN</td>\n",
       "      <td>0.0</td>\n",
       "      <td>0.0</td>\n",
       "      <td>NaN</td>\n",
       "      <td>NaN</td>\n",
       "      <td>NaN</td>\n",
       "      <td>NaN</td>\n",
       "    </tr>\n",
       "  </tbody>\n",
       "</table>\n",
       "<p>5 rows × 111 columns</p>\n",
       "</div>"
      ],
      "text/plain": [
       "        id  member_id  loan_amnt  funded_amnt  funded_amnt_inv        term  \\\n",
       "0  1077501    1296599       5000         5000           4975.0   36 months   \n",
       "1  1077430    1314167       2500         2500           2500.0   60 months   \n",
       "2  1077175    1313524       2400         2400           2400.0   36 months   \n",
       "3  1076863    1277178      10000        10000          10000.0   36 months   \n",
       "4  1075358    1311748       3000         3000           3000.0   60 months   \n",
       "\n",
       "  int_rate  installment grade sub_grade  ... num_tl_90g_dpd_24m  \\\n",
       "0   10.65%       162.87     B        B2  ...                NaN   \n",
       "1   15.27%        59.83     C        C4  ...                NaN   \n",
       "2   15.96%        84.33     C        C5  ...                NaN   \n",
       "3   13.49%       339.31     C        C1  ...                NaN   \n",
       "4   12.69%        67.79     B        B5  ...                NaN   \n",
       "\n",
       "  num_tl_op_past_12m pct_tl_nvr_dlq  percent_bc_gt_75 pub_rec_bankruptcies  \\\n",
       "0                NaN            NaN               NaN                  0.0   \n",
       "1                NaN            NaN               NaN                  0.0   \n",
       "2                NaN            NaN               NaN                  0.0   \n",
       "3                NaN            NaN               NaN                  0.0   \n",
       "4                NaN            NaN               NaN                  0.0   \n",
       "\n",
       "  tax_liens tot_hi_cred_lim total_bal_ex_mort total_bc_limit  \\\n",
       "0       0.0             NaN               NaN            NaN   \n",
       "1       0.0             NaN               NaN            NaN   \n",
       "2       0.0             NaN               NaN            NaN   \n",
       "3       0.0             NaN               NaN            NaN   \n",
       "4       0.0             NaN               NaN            NaN   \n",
       "\n",
       "  total_il_high_credit_limit  \n",
       "0                        NaN  \n",
       "1                        NaN  \n",
       "2                        NaN  \n",
       "3                        NaN  \n",
       "4                        NaN  \n",
       "\n",
       "[5 rows x 111 columns]"
      ]
     },
     "execution_count": 3,
     "metadata": {},
     "output_type": "execute_result"
    }
   ],
   "source": [
    "#checking the attributes from csv file by loading initial 5 rows\n",
    "df.head(5)"
   ]
  },
  {
   "cell_type": "code",
   "execution_count": 4,
   "id": "aa91bf0f",
   "metadata": {
    "id": "aa91bf0f",
    "outputId": "90af6cec-a210-47f2-eed5-d592ff7084d5"
   },
   "outputs": [
    {
     "data": {
      "text/html": [
       "<div>\n",
       "<style scoped>\n",
       "    .dataframe tbody tr th:only-of-type {\n",
       "        vertical-align: middle;\n",
       "    }\n",
       "\n",
       "    .dataframe tbody tr th {\n",
       "        vertical-align: top;\n",
       "    }\n",
       "\n",
       "    .dataframe thead th {\n",
       "        text-align: right;\n",
       "    }\n",
       "</style>\n",
       "<table border=\"1\" class=\"dataframe\">\n",
       "  <thead>\n",
       "    <tr style=\"text-align: right;\">\n",
       "      <th></th>\n",
       "      <th>id</th>\n",
       "      <th>member_id</th>\n",
       "      <th>loan_amnt</th>\n",
       "      <th>funded_amnt</th>\n",
       "      <th>funded_amnt_inv</th>\n",
       "      <th>installment</th>\n",
       "      <th>annual_inc</th>\n",
       "      <th>dti</th>\n",
       "      <th>delinq_2yrs</th>\n",
       "      <th>inq_last_6mths</th>\n",
       "      <th>...</th>\n",
       "      <th>num_tl_90g_dpd_24m</th>\n",
       "      <th>num_tl_op_past_12m</th>\n",
       "      <th>pct_tl_nvr_dlq</th>\n",
       "      <th>percent_bc_gt_75</th>\n",
       "      <th>pub_rec_bankruptcies</th>\n",
       "      <th>tax_liens</th>\n",
       "      <th>tot_hi_cred_lim</th>\n",
       "      <th>total_bal_ex_mort</th>\n",
       "      <th>total_bc_limit</th>\n",
       "      <th>total_il_high_credit_limit</th>\n",
       "    </tr>\n",
       "  </thead>\n",
       "  <tbody>\n",
       "    <tr>\n",
       "      <th>count</th>\n",
       "      <td>3.971700e+04</td>\n",
       "      <td>3.971700e+04</td>\n",
       "      <td>39717.000000</td>\n",
       "      <td>39717.000000</td>\n",
       "      <td>39717.000000</td>\n",
       "      <td>39717.000000</td>\n",
       "      <td>3.971700e+04</td>\n",
       "      <td>39717.000000</td>\n",
       "      <td>39717.000000</td>\n",
       "      <td>39717.000000</td>\n",
       "      <td>...</td>\n",
       "      <td>0.0</td>\n",
       "      <td>0.0</td>\n",
       "      <td>0.0</td>\n",
       "      <td>0.0</td>\n",
       "      <td>39020.000000</td>\n",
       "      <td>39678.0</td>\n",
       "      <td>0.0</td>\n",
       "      <td>0.0</td>\n",
       "      <td>0.0</td>\n",
       "      <td>0.0</td>\n",
       "    </tr>\n",
       "    <tr>\n",
       "      <th>mean</th>\n",
       "      <td>6.831319e+05</td>\n",
       "      <td>8.504636e+05</td>\n",
       "      <td>11219.443815</td>\n",
       "      <td>10947.713196</td>\n",
       "      <td>10397.448868</td>\n",
       "      <td>324.561922</td>\n",
       "      <td>6.896893e+04</td>\n",
       "      <td>13.315130</td>\n",
       "      <td>0.146512</td>\n",
       "      <td>0.869200</td>\n",
       "      <td>...</td>\n",
       "      <td>NaN</td>\n",
       "      <td>NaN</td>\n",
       "      <td>NaN</td>\n",
       "      <td>NaN</td>\n",
       "      <td>0.043260</td>\n",
       "      <td>0.0</td>\n",
       "      <td>NaN</td>\n",
       "      <td>NaN</td>\n",
       "      <td>NaN</td>\n",
       "      <td>NaN</td>\n",
       "    </tr>\n",
       "    <tr>\n",
       "      <th>std</th>\n",
       "      <td>2.106941e+05</td>\n",
       "      <td>2.656783e+05</td>\n",
       "      <td>7456.670694</td>\n",
       "      <td>7187.238670</td>\n",
       "      <td>7128.450439</td>\n",
       "      <td>208.874874</td>\n",
       "      <td>6.379377e+04</td>\n",
       "      <td>6.678594</td>\n",
       "      <td>0.491812</td>\n",
       "      <td>1.070219</td>\n",
       "      <td>...</td>\n",
       "      <td>NaN</td>\n",
       "      <td>NaN</td>\n",
       "      <td>NaN</td>\n",
       "      <td>NaN</td>\n",
       "      <td>0.204324</td>\n",
       "      <td>0.0</td>\n",
       "      <td>NaN</td>\n",
       "      <td>NaN</td>\n",
       "      <td>NaN</td>\n",
       "      <td>NaN</td>\n",
       "    </tr>\n",
       "    <tr>\n",
       "      <th>min</th>\n",
       "      <td>5.473400e+04</td>\n",
       "      <td>7.069900e+04</td>\n",
       "      <td>500.000000</td>\n",
       "      <td>500.000000</td>\n",
       "      <td>0.000000</td>\n",
       "      <td>15.690000</td>\n",
       "      <td>4.000000e+03</td>\n",
       "      <td>0.000000</td>\n",
       "      <td>0.000000</td>\n",
       "      <td>0.000000</td>\n",
       "      <td>...</td>\n",
       "      <td>NaN</td>\n",
       "      <td>NaN</td>\n",
       "      <td>NaN</td>\n",
       "      <td>NaN</td>\n",
       "      <td>0.000000</td>\n",
       "      <td>0.0</td>\n",
       "      <td>NaN</td>\n",
       "      <td>NaN</td>\n",
       "      <td>NaN</td>\n",
       "      <td>NaN</td>\n",
       "    </tr>\n",
       "    <tr>\n",
       "      <th>25%</th>\n",
       "      <td>5.162210e+05</td>\n",
       "      <td>6.667800e+05</td>\n",
       "      <td>5500.000000</td>\n",
       "      <td>5400.000000</td>\n",
       "      <td>5000.000000</td>\n",
       "      <td>167.020000</td>\n",
       "      <td>4.040400e+04</td>\n",
       "      <td>8.170000</td>\n",
       "      <td>0.000000</td>\n",
       "      <td>0.000000</td>\n",
       "      <td>...</td>\n",
       "      <td>NaN</td>\n",
       "      <td>NaN</td>\n",
       "      <td>NaN</td>\n",
       "      <td>NaN</td>\n",
       "      <td>0.000000</td>\n",
       "      <td>0.0</td>\n",
       "      <td>NaN</td>\n",
       "      <td>NaN</td>\n",
       "      <td>NaN</td>\n",
       "      <td>NaN</td>\n",
       "    </tr>\n",
       "    <tr>\n",
       "      <th>50%</th>\n",
       "      <td>6.656650e+05</td>\n",
       "      <td>8.508120e+05</td>\n",
       "      <td>10000.000000</td>\n",
       "      <td>9600.000000</td>\n",
       "      <td>8975.000000</td>\n",
       "      <td>280.220000</td>\n",
       "      <td>5.900000e+04</td>\n",
       "      <td>13.400000</td>\n",
       "      <td>0.000000</td>\n",
       "      <td>1.000000</td>\n",
       "      <td>...</td>\n",
       "      <td>NaN</td>\n",
       "      <td>NaN</td>\n",
       "      <td>NaN</td>\n",
       "      <td>NaN</td>\n",
       "      <td>0.000000</td>\n",
       "      <td>0.0</td>\n",
       "      <td>NaN</td>\n",
       "      <td>NaN</td>\n",
       "      <td>NaN</td>\n",
       "      <td>NaN</td>\n",
       "    </tr>\n",
       "    <tr>\n",
       "      <th>75%</th>\n",
       "      <td>8.377550e+05</td>\n",
       "      <td>1.047339e+06</td>\n",
       "      <td>15000.000000</td>\n",
       "      <td>15000.000000</td>\n",
       "      <td>14400.000000</td>\n",
       "      <td>430.780000</td>\n",
       "      <td>8.230000e+04</td>\n",
       "      <td>18.600000</td>\n",
       "      <td>0.000000</td>\n",
       "      <td>1.000000</td>\n",
       "      <td>...</td>\n",
       "      <td>NaN</td>\n",
       "      <td>NaN</td>\n",
       "      <td>NaN</td>\n",
       "      <td>NaN</td>\n",
       "      <td>0.000000</td>\n",
       "      <td>0.0</td>\n",
       "      <td>NaN</td>\n",
       "      <td>NaN</td>\n",
       "      <td>NaN</td>\n",
       "      <td>NaN</td>\n",
       "    </tr>\n",
       "    <tr>\n",
       "      <th>max</th>\n",
       "      <td>1.077501e+06</td>\n",
       "      <td>1.314167e+06</td>\n",
       "      <td>35000.000000</td>\n",
       "      <td>35000.000000</td>\n",
       "      <td>35000.000000</td>\n",
       "      <td>1305.190000</td>\n",
       "      <td>6.000000e+06</td>\n",
       "      <td>29.990000</td>\n",
       "      <td>11.000000</td>\n",
       "      <td>8.000000</td>\n",
       "      <td>...</td>\n",
       "      <td>NaN</td>\n",
       "      <td>NaN</td>\n",
       "      <td>NaN</td>\n",
       "      <td>NaN</td>\n",
       "      <td>2.000000</td>\n",
       "      <td>0.0</td>\n",
       "      <td>NaN</td>\n",
       "      <td>NaN</td>\n",
       "      <td>NaN</td>\n",
       "      <td>NaN</td>\n",
       "    </tr>\n",
       "  </tbody>\n",
       "</table>\n",
       "<p>8 rows × 87 columns</p>\n",
       "</div>"
      ],
      "text/plain": [
       "                 id     member_id     loan_amnt   funded_amnt  \\\n",
       "count  3.971700e+04  3.971700e+04  39717.000000  39717.000000   \n",
       "mean   6.831319e+05  8.504636e+05  11219.443815  10947.713196   \n",
       "std    2.106941e+05  2.656783e+05   7456.670694   7187.238670   \n",
       "min    5.473400e+04  7.069900e+04    500.000000    500.000000   \n",
       "25%    5.162210e+05  6.667800e+05   5500.000000   5400.000000   \n",
       "50%    6.656650e+05  8.508120e+05  10000.000000   9600.000000   \n",
       "75%    8.377550e+05  1.047339e+06  15000.000000  15000.000000   \n",
       "max    1.077501e+06  1.314167e+06  35000.000000  35000.000000   \n",
       "\n",
       "       funded_amnt_inv   installment    annual_inc           dti  \\\n",
       "count     39717.000000  39717.000000  3.971700e+04  39717.000000   \n",
       "mean      10397.448868    324.561922  6.896893e+04     13.315130   \n",
       "std        7128.450439    208.874874  6.379377e+04      6.678594   \n",
       "min           0.000000     15.690000  4.000000e+03      0.000000   \n",
       "25%        5000.000000    167.020000  4.040400e+04      8.170000   \n",
       "50%        8975.000000    280.220000  5.900000e+04     13.400000   \n",
       "75%       14400.000000    430.780000  8.230000e+04     18.600000   \n",
       "max       35000.000000   1305.190000  6.000000e+06     29.990000   \n",
       "\n",
       "        delinq_2yrs  inq_last_6mths  ...  num_tl_90g_dpd_24m  \\\n",
       "count  39717.000000    39717.000000  ...                 0.0   \n",
       "mean       0.146512        0.869200  ...                 NaN   \n",
       "std        0.491812        1.070219  ...                 NaN   \n",
       "min        0.000000        0.000000  ...                 NaN   \n",
       "25%        0.000000        0.000000  ...                 NaN   \n",
       "50%        0.000000        1.000000  ...                 NaN   \n",
       "75%        0.000000        1.000000  ...                 NaN   \n",
       "max       11.000000        8.000000  ...                 NaN   \n",
       "\n",
       "       num_tl_op_past_12m  pct_tl_nvr_dlq  percent_bc_gt_75  \\\n",
       "count                 0.0             0.0               0.0   \n",
       "mean                  NaN             NaN               NaN   \n",
       "std                   NaN             NaN               NaN   \n",
       "min                   NaN             NaN               NaN   \n",
       "25%                   NaN             NaN               NaN   \n",
       "50%                   NaN             NaN               NaN   \n",
       "75%                   NaN             NaN               NaN   \n",
       "max                   NaN             NaN               NaN   \n",
       "\n",
       "       pub_rec_bankruptcies  tax_liens  tot_hi_cred_lim  total_bal_ex_mort  \\\n",
       "count          39020.000000    39678.0              0.0                0.0   \n",
       "mean               0.043260        0.0              NaN                NaN   \n",
       "std                0.204324        0.0              NaN                NaN   \n",
       "min                0.000000        0.0              NaN                NaN   \n",
       "25%                0.000000        0.0              NaN                NaN   \n",
       "50%                0.000000        0.0              NaN                NaN   \n",
       "75%                0.000000        0.0              NaN                NaN   \n",
       "max                2.000000        0.0              NaN                NaN   \n",
       "\n",
       "       total_bc_limit  total_il_high_credit_limit  \n",
       "count             0.0                         0.0  \n",
       "mean              NaN                         NaN  \n",
       "std               NaN                         NaN  \n",
       "min               NaN                         NaN  \n",
       "25%               NaN                         NaN  \n",
       "50%               NaN                         NaN  \n",
       "75%               NaN                         NaN  \n",
       "max               NaN                         NaN  \n",
       "\n",
       "[8 rows x 87 columns]"
      ]
     },
     "execution_count": 4,
     "metadata": {},
     "output_type": "execute_result"
    }
   ],
   "source": [
    "#Checking the data volume\n",
    "df.describe()"
   ]
  },
  {
   "cell_type": "code",
   "execution_count": 5,
   "id": "9c1d0b6a",
   "metadata": {
    "id": "9c1d0b6a",
    "outputId": "72a6a70e-1789-433c-c54b-e9c68d77e117"
   },
   "outputs": [
    {
     "name": "stdout",
     "output_type": "stream",
     "text": [
      "<class 'pandas.core.frame.DataFrame'>\n",
      "RangeIndex: 39717 entries, 0 to 39716\n",
      "Columns: 111 entries, id to total_il_high_credit_limit\n",
      "dtypes: float64(74), int64(13), object(24)\n",
      "memory usage: 33.6+ MB\n"
     ]
    }
   ],
   "source": [
    "df.info()"
   ]
  },
  {
   "cell_type": "code",
   "execution_count": 6,
   "id": "ff173e23",
   "metadata": {
    "id": "ff173e23",
    "outputId": "ecd36f9a-3a5a-4837-9335-e9378202a4fa"
   },
   "outputs": [
    {
     "data": {
      "text/plain": [
       "(39717, 111)"
      ]
     },
     "execution_count": 6,
     "metadata": {},
     "output_type": "execute_result"
    }
   ],
   "source": [
    "df.shape"
   ]
  },
  {
   "cell_type": "markdown",
   "id": "2a0829e3-ae66-41e0-901f-9c9eb08ef525",
   "metadata": {
    "id": "2a0829e3-ae66-41e0-901f-9c9eb08ef525"
   },
   "source": [
    "## Analysing data and Data cleaning"
   ]
  },
  {
   "cell_type": "code",
   "execution_count": 8,
   "id": "e32493e1",
   "metadata": {
    "id": "e32493e1",
    "outputId": "5b8bdfe6-1065-4cde-8d91-fe8dad02c786"
   },
   "outputs": [
    {
     "data": {
      "image/png": "[encoded data removed]",
      "text/plain": [
       "<Figure size 1000x300 with 1 Axes>"
      ]
     },
     "metadata": {},
     "output_type": "display_data"
    }
   ],
   "source": [
    "#There are few columns for which there are missing values and unique values and to decide on it further whether to drop or retain lets do some cleanup  let see explore more to keep or drop them\n",
    "#Doing cleanup of NULLs from rows and columns of the loan dataset\n",
    "c = df.isnull().sum()\n",
    "c.plot(kind='hist', bins=50, figsize = (10,3))\n",
    "plt.show()"
   ]
  },
  {
   "cell_type": "code",
   "execution_count": 9,
   "id": "df6e342a",
   "metadata": {
    "id": "df6e342a"
   },
   "outputs": [],
   "source": [
    "# Above figure show that there are more null values towards 40k mark .Also there are few in between after 10k .\n",
    "# Understanding on what are these before we proceed to remove"
   ]
  },
  {
   "cell_type": "code",
   "execution_count": 10,
   "id": "699dc192",
   "metadata": {
    "id": "699dc192",
    "outputId": "c2b0fc8c-aef1-41c2-970a-cd01e50adf5c"
   },
   "outputs": [
    {
     "data": {
      "text/plain": [
       "desc                      12942\n",
       "mths_since_last_delinq    25682\n",
       "mths_since_last_record    36931\n",
       "next_pymnt_d              38577\n",
       "dtype: int64"
      ]
     },
     "execution_count": 10,
     "metadata": {},
     "output_type": "execute_result"
    }
   ],
   "source": [
    "c.loc[(c.values > 10000) & (c.values < 39717)].sort_values()"
   ]
  },
  {
   "cell_type": "code",
   "execution_count": 11,
   "id": "ea5e9443",
   "metadata": {
    "id": "ea5e9443"
   },
   "outputs": [],
   "source": [
    "# Above data suggests that months since last delinquent and months since last record of 25682 and 36931 which are unrealistic.\n",
    "# Hence let us drop them as these 10k ones and of-course 40k"
   ]
  },
  {
   "cell_type": "code",
   "execution_count": 12,
   "id": "8a9d22ac",
   "metadata": {
    "id": "8a9d22ac",
    "outputId": "ac0f6e9d-9480-4f73-b151-f17f72f694cd"
   },
   "outputs": [
    {
     "data": {
      "text/plain": [
       "(39717, 53)"
      ]
     },
     "execution_count": 12,
     "metadata": {},
     "output_type": "execute_result"
    }
   ],
   "source": [
    "df.drop(columns=list(c[c.values > 10000].index), inplace=True)\n",
    "df.shape"
   ]
  },
  {
   "cell_type": "code",
   "execution_count": 13,
   "id": "ec165f16",
   "metadata": {
    "id": "ec165f16",
    "outputId": "675a5083-db14-4c10-bc7f-efdcac227474"
   },
   "outputs": [
    {
     "data": {
      "text/plain": [
       "0.09433962264150944"
      ]
     },
     "execution_count": 13,
     "metadata": {},
     "output_type": "execute_result"
    }
   ],
   "source": [
    "r = df.isnull().sum(axis=1) / len(df.columns)\n",
    "max(r.values)"
   ]
  },
  {
   "cell_type": "code",
   "execution_count": 14,
   "id": "fbde6bd5",
   "metadata": {
    "id": "fbde6bd5",
    "outputId": "338ba0d8-ca8c-487d-ff78-ca2d58470669",
    "scrolled": true
   },
   "outputs": [
    {
     "name": "stdout",
     "output_type": "stream",
     "text": [
      "id                            39717\n",
      "member_id                     39717\n",
      "loan_amnt                       885\n",
      "funded_amnt                    1041\n",
      "funded_amnt_inv                8205\n",
      "term                              2\n",
      "int_rate                        371\n",
      "installment                   15383\n",
      "grade                             7\n",
      "sub_grade                        35\n",
      "emp_title                     28820\n",
      "emp_length                       11\n",
      "home_ownership                    5\n",
      "annual_inc                     5318\n",
      "verification_status               3\n",
      "issue_d                          55\n",
      "loan_status                       3\n",
      "pymnt_plan                        1\n",
      "url                           39717\n",
      "purpose                          14\n",
      "title                         19615\n",
      "zip_code                        823\n",
      "addr_state                       50\n",
      "dti                            2868\n",
      "delinq_2yrs                      11\n",
      "earliest_cr_line                526\n",
      "inq_last_6mths                    9\n",
      "open_acc                         40\n",
      "pub_rec                           5\n",
      "revol_bal                     21711\n",
      "revol_util                     1089\n",
      "total_acc                        82\n",
      "initial_list_status               1\n",
      "out_prncp                      1137\n",
      "out_prncp_inv                  1138\n",
      "total_pymnt                   37850\n",
      "total_pymnt_inv               37518\n",
      "total_rec_prncp                7976\n",
      "total_rec_int                 35148\n",
      "total_rec_late_fee             1356\n",
      "recoveries                     4040\n",
      "collection_recovery_fee        2616\n",
      "last_pymnt_d                    101\n",
      "last_pymnt_amnt               34930\n",
      "last_credit_pull_d              106\n",
      "collections_12_mths_ex_med        1\n",
      "policy_code                       1\n",
      "application_type                  1\n",
      "acc_now_delinq                    1\n",
      "chargeoff_within_12_mths          1\n",
      "delinq_amnt                       1\n",
      "pub_rec_bankruptcies              3\n",
      "tax_liens                         1\n",
      "dtype: int64\n"
     ]
    }
   ],
   "source": [
    "# After we removed Null values, checking how many columns has unique or single values in them.\n",
    "column_unique = df.nunique()\n",
    "print(column_unique)"
   ]
  },
  {
   "cell_type": "code",
   "execution_count": 15,
   "id": "1ee4a852",
   "metadata": {
    "id": "1ee4a852",
    "outputId": "bc175259-0982-4d7e-d55b-884bba874d51"
   },
   "outputs": [
    {
     "data": {
      "text/plain": [
       "Index(['pymnt_plan', 'initial_list_status', 'collections_12_mths_ex_med',\n",
       "       'policy_code', 'application_type', 'acc_now_delinq',\n",
       "       'chargeoff_within_12_mths', 'delinq_amnt', 'tax_liens'],\n",
       "      dtype='object')"
      ]
     },
     "execution_count": 15,
     "metadata": {},
     "output_type": "execute_result"
    }
   ],
   "source": [
    "# Printing single vaule columns and understanding is there any significance of these columns for the analysis\n",
    "c1 = column_unique[column_unique.values == 1]\n",
    "c1.index"
   ]
  },
  {
   "cell_type": "code",
   "execution_count": 16,
   "id": "78b4a9f5",
   "metadata": {
    "id": "78b4a9f5",
    "outputId": "2ee18fc7-6e77-4911-c02e-ae0fcc2e611a"
   },
   "outputs": [
    {
     "data": {
      "text/plain": [
       "(39717, 44)"
      ]
     },
     "execution_count": 16,
     "metadata": {},
     "output_type": "execute_result"
    }
   ],
   "source": [
    "# Dropping single value columns and checking the shape(rows x columns) after drop for the confirmation\n",
    "df.drop(columns = list(c1.index), inplace=True)\n",
    "df.shape"
   ]
  },
  {
   "cell_type": "code",
   "execution_count": 17,
   "id": "3e3fe45f",
   "metadata": {
    "id": "3e3fe45f",
    "outputId": "a2d0a603-bfe6-44c6-88ed-f4181b15fe9a"
   },
   "outputs": [
    {
     "name": "stdout",
     "output_type": "stream",
     "text": [
      "id                            39717\n",
      "member_id                     39717\n",
      "loan_amnt                       885\n",
      "funded_amnt                    1041\n",
      "funded_amnt_inv                8205\n",
      "term                              2\n",
      "int_rate                        371\n",
      "installment                   15383\n",
      "grade                             7\n",
      "sub_grade                        35\n",
      "emp_title                     28820\n",
      "emp_length                       11\n",
      "home_ownership                    5\n",
      "annual_inc                     5318\n",
      "verification_status               3\n",
      "issue_d                          55\n",
      "loan_status                       3\n",
      "pymnt_plan                        1\n",
      "url                           39717\n",
      "purpose                          14\n",
      "title                         19615\n",
      "zip_code                        823\n",
      "addr_state                       50\n",
      "dti                            2868\n",
      "delinq_2yrs                      11\n",
      "earliest_cr_line                526\n",
      "inq_last_6mths                    9\n",
      "open_acc                         40\n",
      "pub_rec                           5\n",
      "revol_bal                     21711\n",
      "revol_util                     1089\n",
      "total_acc                        82\n",
      "initial_list_status               1\n",
      "out_prncp                      1137\n",
      "out_prncp_inv                  1138\n",
      "total_pymnt                   37850\n",
      "total_pymnt_inv               37518\n",
      "total_rec_prncp                7976\n",
      "total_rec_int                 35148\n",
      "total_rec_late_fee             1356\n",
      "recoveries                     4040\n",
      "collection_recovery_fee        2616\n",
      "last_pymnt_d                    101\n",
      "last_pymnt_amnt               34930\n",
      "last_credit_pull_d              106\n",
      "collections_12_mths_ex_med        1\n",
      "policy_code                       1\n",
      "application_type                  1\n",
      "acc_now_delinq                    1\n",
      "chargeoff_within_12_mths          1\n",
      "delinq_amnt                       1\n",
      "pub_rec_bankruptcies              3\n",
      "tax_liens                         1\n",
      "dtype: int64\n"
     ]
    }
   ],
   "source": [
    "# Analysing any unnecessry columns exists\n",
    "# We are doing risk analysis before Loan gets approved hence having the columns that are created once the Loan is approved does not\n",
    "#make any sense .So, let us check them first and drop them .\n",
    "print(column_unique)"
   ]
  },
  {
   "cell_type": "code",
   "execution_count": 18,
   "id": "46f9aece",
   "metadata": {
    "id": "46f9aece",
    "outputId": "7427fa5c-9107-4caa-e1dc-3301b06d6c0a"
   },
   "outputs": [
    {
     "data": {
      "text/plain": [
       "(39717, 28)"
      ]
     },
     "execution_count": 18,
     "metadata": {},
     "output_type": "execute_result"
    }
   ],
   "source": [
    "# From above list of columns we can see few columns are not necessary because these column represents the data after loan application is approved.\n",
    "# Since we are doing risk analysis which is before loan gets approved.\n",
    "# So any column which has data of already approved/rejected loans and also unique values will not have any significance for the analysis.\n",
    "# Dropping the columns which gets created once loan approved\n",
    "del_cols = [\"id\",\"member_id\",\"url\",\"zip_code\",\"out_prncp\",\"out_prncp_inv\",\"total_pymnt\",\"total_pymnt_inv\",\n",
    "            \"total_rec_prncp\",\"total_rec_int\",\"total_rec_late_fee\",\"recoveries\",\"collection_recovery_fee\",\n",
    "           \"last_pymnt_d\",\"last_pymnt_amnt\",\"last_credit_pull_d\"]\n",
    "df.drop(columns=del_cols, inplace=True)\n",
    "df.shape"
   ]
  },
  {
   "cell_type": "code",
   "execution_count": 19,
   "id": "3688e224",
   "metadata": {
    "id": "3688e224",
    "outputId": "a2d90d1c-3b9c-421e-975e-4ef7772aac87"
   },
   "outputs": [
    {
     "name": "stdout",
     "output_type": "stream",
     "text": [
      "<class 'pandas.core.frame.DataFrame'>\n",
      "RangeIndex: 39717 entries, 0 to 39716\n",
      "Data columns (total 28 columns):\n",
      " #   Column                Non-Null Count  Dtype  \n",
      "---  ------                --------------  -----  \n",
      " 0   loan_amnt             39717 non-null  int64  \n",
      " 1   funded_amnt           39717 non-null  int64  \n",
      " 2   funded_amnt_inv       39717 non-null  float64\n",
      " 3   term                  39717 non-null  object \n",
      " 4   int_rate              39717 non-null  object \n",
      " 5   installment           39717 non-null  float64\n",
      " 6   grade                 39717 non-null  object \n",
      " 7   sub_grade             39717 non-null  object \n",
      " 8   emp_title             37258 non-null  object \n",
      " 9   emp_length            38642 non-null  object \n",
      " 10  home_ownership        39717 non-null  object \n",
      " 11  annual_inc            39717 non-null  float64\n",
      " 12  verification_status   39717 non-null  object \n",
      " 13  issue_d               39717 non-null  object \n",
      " 14  loan_status           39717 non-null  object \n",
      " 15  purpose               39717 non-null  object \n",
      " 16  title                 39706 non-null  object \n",
      " 17  addr_state            39717 non-null  object \n",
      " 18  dti                   39717 non-null  float64\n",
      " 19  delinq_2yrs           39717 non-null  int64  \n",
      " 20  earliest_cr_line      39717 non-null  object \n",
      " 21  inq_last_6mths        39717 non-null  int64  \n",
      " 22  open_acc              39717 non-null  int64  \n",
      " 23  pub_rec               39717 non-null  int64  \n",
      " 24  revol_bal             39717 non-null  int64  \n",
      " 25  revol_util            39667 non-null  object \n",
      " 26  total_acc             39717 non-null  int64  \n",
      " 27  pub_rec_bankruptcies  39020 non-null  float64\n",
      "dtypes: float64(5), int64(8), object(15)\n",
      "memory usage: 8.5+ MB\n"
     ]
    }
   ],
   "source": [
    "df.info()"
   ]
  },
  {
   "cell_type": "code",
   "execution_count": 20,
   "id": "8dddd27f",
   "metadata": {
    "id": "8dddd27f",
    "outputId": "e8a55b8e-ef03-4c85-a27a-30398b6aa012"
   },
   "outputs": [
    {
     "data": {
      "text/html": [
       "<div>\n",
       "<style scoped>\n",
       "    .dataframe tbody tr th:only-of-type {\n",
       "        vertical-align: middle;\n",
       "    }\n",
       "\n",
       "    .dataframe tbody tr th {\n",
       "        vertical-align: top;\n",
       "    }\n",
       "\n",
       "    .dataframe thead th {\n",
       "        text-align: right;\n",
       "    }\n",
       "</style>\n",
       "<table border=\"1\" class=\"dataframe\">\n",
       "  <thead>\n",
       "    <tr style=\"text-align: right;\">\n",
       "      <th></th>\n",
       "      <th>loan_amnt</th>\n",
       "      <th>funded_amnt</th>\n",
       "      <th>funded_amnt_inv</th>\n",
       "      <th>installment</th>\n",
       "      <th>annual_inc</th>\n",
       "      <th>dti</th>\n",
       "      <th>delinq_2yrs</th>\n",
       "      <th>inq_last_6mths</th>\n",
       "      <th>open_acc</th>\n",
       "      <th>pub_rec</th>\n",
       "      <th>revol_bal</th>\n",
       "      <th>total_acc</th>\n",
       "      <th>pub_rec_bankruptcies</th>\n",
       "    </tr>\n",
       "  </thead>\n",
       "  <tbody>\n",
       "    <tr>\n",
       "      <th>count</th>\n",
       "      <td>39717.000000</td>\n",
       "      <td>39717.000000</td>\n",
       "      <td>39717.000000</td>\n",
       "      <td>39717.000000</td>\n",
       "      <td>3.971700e+04</td>\n",
       "      <td>39717.000000</td>\n",
       "      <td>39717.000000</td>\n",
       "      <td>39717.000000</td>\n",
       "      <td>39717.000000</td>\n",
       "      <td>39717.000000</td>\n",
       "      <td>39717.000000</td>\n",
       "      <td>39717.000000</td>\n",
       "      <td>39020.000000</td>\n",
       "    </tr>\n",
       "    <tr>\n",
       "      <th>mean</th>\n",
       "      <td>11219.443815</td>\n",
       "      <td>10947.713196</td>\n",
       "      <td>10397.448868</td>\n",
       "      <td>324.561922</td>\n",
       "      <td>6.896893e+04</td>\n",
       "      <td>13.315130</td>\n",
       "      <td>0.146512</td>\n",
       "      <td>0.869200</td>\n",
       "      <td>9.294408</td>\n",
       "      <td>0.055065</td>\n",
       "      <td>13382.528086</td>\n",
       "      <td>22.088828</td>\n",
       "      <td>0.043260</td>\n",
       "    </tr>\n",
       "    <tr>\n",
       "      <th>std</th>\n",
       "      <td>7456.670694</td>\n",
       "      <td>7187.238670</td>\n",
       "      <td>7128.450439</td>\n",
       "      <td>208.874874</td>\n",
       "      <td>6.379377e+04</td>\n",
       "      <td>6.678594</td>\n",
       "      <td>0.491812</td>\n",
       "      <td>1.070219</td>\n",
       "      <td>4.400282</td>\n",
       "      <td>0.237200</td>\n",
       "      <td>15885.016641</td>\n",
       "      <td>11.401709</td>\n",
       "      <td>0.204324</td>\n",
       "    </tr>\n",
       "    <tr>\n",
       "      <th>min</th>\n",
       "      <td>500.000000</td>\n",
       "      <td>500.000000</td>\n",
       "      <td>0.000000</td>\n",
       "      <td>15.690000</td>\n",
       "      <td>4.000000e+03</td>\n",
       "      <td>0.000000</td>\n",
       "      <td>0.000000</td>\n",
       "      <td>0.000000</td>\n",
       "      <td>2.000000</td>\n",
       "      <td>0.000000</td>\n",
       "      <td>0.000000</td>\n",
       "      <td>2.000000</td>\n",
       "      <td>0.000000</td>\n",
       "    </tr>\n",
       "    <tr>\n",
       "      <th>25%</th>\n",
       "      <td>5500.000000</td>\n",
       "      <td>5400.000000</td>\n",
       "      <td>5000.000000</td>\n",
       "      <td>167.020000</td>\n",
       "      <td>4.040400e+04</td>\n",
       "      <td>8.170000</td>\n",
       "      <td>0.000000</td>\n",
       "      <td>0.000000</td>\n",
       "      <td>6.000000</td>\n",
       "      <td>0.000000</td>\n",
       "      <td>3703.000000</td>\n",
       "      <td>13.000000</td>\n",
       "      <td>0.000000</td>\n",
       "    </tr>\n",
       "    <tr>\n",
       "      <th>50%</th>\n",
       "      <td>10000.000000</td>\n",
       "      <td>9600.000000</td>\n",
       "      <td>8975.000000</td>\n",
       "      <td>280.220000</td>\n",
       "      <td>5.900000e+04</td>\n",
       "      <td>13.400000</td>\n",
       "      <td>0.000000</td>\n",
       "      <td>1.000000</td>\n",
       "      <td>9.000000</td>\n",
       "      <td>0.000000</td>\n",
       "      <td>8850.000000</td>\n",
       "      <td>20.000000</td>\n",
       "      <td>0.000000</td>\n",
       "    </tr>\n",
       "    <tr>\n",
       "      <th>75%</th>\n",
       "      <td>15000.000000</td>\n",
       "      <td>15000.000000</td>\n",
       "      <td>14400.000000</td>\n",
       "      <td>430.780000</td>\n",
       "      <td>8.230000e+04</td>\n",
       "      <td>18.600000</td>\n",
       "      <td>0.000000</td>\n",
       "      <td>1.000000</td>\n",
       "      <td>12.000000</td>\n",
       "      <td>0.000000</td>\n",
       "      <td>17058.000000</td>\n",
       "      <td>29.000000</td>\n",
       "      <td>0.000000</td>\n",
       "    </tr>\n",
       "    <tr>\n",
       "      <th>max</th>\n",
       "      <td>35000.000000</td>\n",
       "      <td>35000.000000</td>\n",
       "      <td>35000.000000</td>\n",
       "      <td>1305.190000</td>\n",
       "      <td>6.000000e+06</td>\n",
       "      <td>29.990000</td>\n",
       "      <td>11.000000</td>\n",
       "      <td>8.000000</td>\n",
       "      <td>44.000000</td>\n",
       "      <td>4.000000</td>\n",
       "      <td>149588.000000</td>\n",
       "      <td>90.000000</td>\n",
       "      <td>2.000000</td>\n",
       "    </tr>\n",
       "  </tbody>\n",
       "</table>\n",
       "</div>"
      ],
      "text/plain": [
       "          loan_amnt   funded_amnt  funded_amnt_inv   installment  \\\n",
       "count  39717.000000  39717.000000     39717.000000  39717.000000   \n",
       "mean   11219.443815  10947.713196     10397.448868    324.561922   \n",
       "std     7456.670694   7187.238670      7128.450439    208.874874   \n",
       "min      500.000000    500.000000         0.000000     15.690000   \n",
       "25%     5500.000000   5400.000000      5000.000000    167.020000   \n",
       "50%    10000.000000   9600.000000      8975.000000    280.220000   \n",
       "75%    15000.000000  15000.000000     14400.000000    430.780000   \n",
       "max    35000.000000  35000.000000     35000.000000   1305.190000   \n",
       "\n",
       "         annual_inc           dti   delinq_2yrs  inq_last_6mths      open_acc  \\\n",
       "count  3.971700e+04  39717.000000  39717.000000    39717.000000  39717.000000   \n",
       "mean   6.896893e+04     13.315130      0.146512        0.869200      9.294408   \n",
       "std    6.379377e+04      6.678594      0.491812        1.070219      4.400282   \n",
       "min    4.000000e+03      0.000000      0.000000        0.000000      2.000000   \n",
       "25%    4.040400e+04      8.170000      0.000000        0.000000      6.000000   \n",
       "50%    5.900000e+04     13.400000      0.000000        1.000000      9.000000   \n",
       "75%    8.230000e+04     18.600000      0.000000        1.000000     12.000000   \n",
       "max    6.000000e+06     29.990000     11.000000        8.000000     44.000000   \n",
       "\n",
       "            pub_rec      revol_bal     total_acc  pub_rec_bankruptcies  \n",
       "count  39717.000000   39717.000000  39717.000000          39020.000000  \n",
       "mean       0.055065   13382.528086     22.088828              0.043260  \n",
       "std        0.237200   15885.016641     11.401709              0.204324  \n",
       "min        0.000000       0.000000      2.000000              0.000000  \n",
       "25%        0.000000    3703.000000     13.000000              0.000000  \n",
       "50%        0.000000    8850.000000     20.000000              0.000000  \n",
       "75%        0.000000   17058.000000     29.000000              0.000000  \n",
       "max        4.000000  149588.000000     90.000000              2.000000  "
      ]
     },
     "execution_count": 20,
     "metadata": {},
     "output_type": "execute_result"
    }
   ],
   "source": [
    "df.describe()"
   ]
  },
  {
   "cell_type": "markdown",
   "id": "16632de8-eaf1-4cd3-ad6e-bdc88849df2a",
   "metadata": {
    "id": "16632de8-eaf1-4cd3-ad6e-bdc88849df2a"
   },
   "source": [
    "## Data Preparation"
   ]
  },
  {
   "cell_type": "markdown",
   "id": "11df47e2-275d-4f32-b63d-d1d734fbcddd",
   "metadata": {
    "id": "11df47e2-275d-4f32-b63d-d1d734fbcddd"
   },
   "source": [
    "#### Data analysis on Loan Status"
   ]
  },
  {
   "cell_type": "code",
   "execution_count": 23,
   "id": "827ce34e",
   "metadata": {
    "id": "827ce34e",
    "outputId": "fb603bc1-6c37-487c-87ab-d7796b1888ac"
   },
   "outputs": [
    {
     "data": {
      "text/plain": [
       "loan_status\n",
       "Fully Paid     32950\n",
       "Charged Off     5627\n",
       "Current         1140\n",
       "Name: count, dtype: int64"
      ]
     },
     "execution_count": 23,
     "metadata": {},
     "output_type": "execute_result"
    }
   ],
   "source": [
    "df['loan_status'].value_counts()"
   ]
  },
  {
   "cell_type": "code",
   "execution_count": 24,
   "id": "3fa32ed1-26af-4570-a0ed-6e9b6100256c",
   "metadata": {
    "id": "3fa32ed1-26af-4570-a0ed-6e9b6100256c"
   },
   "outputs": [],
   "source": [
    "# Fully Paid and Charged Off will give the insightful information for our analysis.\n",
    "# But loan status Current is an running emi do not give any information to determine for the loan approval or reject.\n",
    "# So dropping records which has loan_status is \"Current\""
   ]
  },
  {
   "cell_type": "code",
   "execution_count": 25,
   "id": "a0d059cf",
   "metadata": {
    "id": "a0d059cf",
    "outputId": "045f0725-30c3-4e9b-c35d-00dbd808d4a1"
   },
   "outputs": [
    {
     "data": {
      "text/plain": [
       "(38577, 28)"
      ]
     },
     "execution_count": 25,
     "metadata": {},
     "output_type": "execute_result"
    }
   ],
   "source": [
    "loan = df[~(df['loan_status'] == 'Current')]\n",
    "loan.shape"
   ]
  },
  {
   "cell_type": "code",
   "execution_count": 26,
   "id": "ee6e141b",
   "metadata": {
    "id": "ee6e141b",
    "outputId": "d2442d66-7e89-448f-9afb-df9008b33ab8",
    "scrolled": true
   },
   "outputs": [
    {
     "name": "stdout",
     "output_type": "stream",
     "text": [
      "<class 'pandas.core.frame.DataFrame'>\n",
      "Index: 38577 entries, 0 to 39716\n",
      "Data columns (total 28 columns):\n",
      " #   Column                Non-Null Count  Dtype  \n",
      "---  ------                --------------  -----  \n",
      " 0   loan_amnt             38577 non-null  int64  \n",
      " 1   funded_amnt           38577 non-null  int64  \n",
      " 2   funded_amnt_inv       38577 non-null  float64\n",
      " 3   term                  38577 non-null  object \n",
      " 4   int_rate              38577 non-null  object \n",
      " 5   installment           38577 non-null  float64\n",
      " 6   grade                 38577 non-null  object \n",
      " 7   sub_grade             38577 non-null  object \n",
      " 8   emp_title             36191 non-null  object \n",
      " 9   emp_length            37544 non-null  object \n",
      " 10  home_ownership        38577 non-null  object \n",
      " 11  annual_inc            38577 non-null  float64\n",
      " 12  verification_status   38577 non-null  object \n",
      " 13  issue_d               38577 non-null  object \n",
      " 14  loan_status           38577 non-null  object \n",
      " 15  purpose               38577 non-null  object \n",
      " 16  title                 38566 non-null  object \n",
      " 17  addr_state            38577 non-null  object \n",
      " 18  dti                   38577 non-null  float64\n",
      " 19  delinq_2yrs           38577 non-null  int64  \n",
      " 20  earliest_cr_line      38577 non-null  object \n",
      " 21  inq_last_6mths        38577 non-null  int64  \n",
      " 22  open_acc              38577 non-null  int64  \n",
      " 23  pub_rec               38577 non-null  int64  \n",
      " 24  revol_bal             38577 non-null  int64  \n",
      " 25  revol_util            38527 non-null  object \n",
      " 26  total_acc             38577 non-null  int64  \n",
      " 27  pub_rec_bankruptcies  37880 non-null  float64\n",
      "dtypes: float64(5), int64(8), object(15)\n",
      "memory usage: 8.5+ MB\n"
     ]
    }
   ],
   "source": [
    "loan.info()"
   ]
  },
  {
   "cell_type": "code",
   "execution_count": 27,
   "id": "81dd507a",
   "metadata": {
    "id": "81dd507a",
    "outputId": "b3d0e17d-737b-4dd5-e026-a8baaf1a7b60"
   },
   "outputs": [
    {
     "data": {
      "text/html": [
       "<div>\n",
       "<style scoped>\n",
       "    .dataframe tbody tr th:only-of-type {\n",
       "        vertical-align: middle;\n",
       "    }\n",
       "\n",
       "    .dataframe tbody tr th {\n",
       "        vertical-align: top;\n",
       "    }\n",
       "\n",
       "    .dataframe thead th {\n",
       "        text-align: right;\n",
       "    }\n",
       "</style>\n",
       "<table border=\"1\" class=\"dataframe\">\n",
       "  <thead>\n",
       "    <tr style=\"text-align: right;\">\n",
       "      <th></th>\n",
       "      <th>loan_amnt</th>\n",
       "      <th>funded_amnt</th>\n",
       "      <th>funded_amnt_inv</th>\n",
       "      <th>installment</th>\n",
       "      <th>annual_inc</th>\n",
       "      <th>dti</th>\n",
       "      <th>delinq_2yrs</th>\n",
       "      <th>inq_last_6mths</th>\n",
       "      <th>open_acc</th>\n",
       "      <th>pub_rec</th>\n",
       "      <th>revol_bal</th>\n",
       "      <th>total_acc</th>\n",
       "      <th>pub_rec_bankruptcies</th>\n",
       "    </tr>\n",
       "  </thead>\n",
       "  <tbody>\n",
       "    <tr>\n",
       "      <th>count</th>\n",
       "      <td>38577.000000</td>\n",
       "      <td>38577.000000</td>\n",
       "      <td>38577.000000</td>\n",
       "      <td>38577.000000</td>\n",
       "      <td>3.857700e+04</td>\n",
       "      <td>38577.000000</td>\n",
       "      <td>38577.000000</td>\n",
       "      <td>38577.000000</td>\n",
       "      <td>38577.000000</td>\n",
       "      <td>38577.000000</td>\n",
       "      <td>38577.000000</td>\n",
       "      <td>38577.000000</td>\n",
       "      <td>37880.000000</td>\n",
       "    </tr>\n",
       "    <tr>\n",
       "      <th>mean</th>\n",
       "      <td>11047.025430</td>\n",
       "      <td>10784.058506</td>\n",
       "      <td>10222.481123</td>\n",
       "      <td>322.466318</td>\n",
       "      <td>6.877797e+04</td>\n",
       "      <td>13.272727</td>\n",
       "      <td>0.146668</td>\n",
       "      <td>0.871737</td>\n",
       "      <td>9.275423</td>\n",
       "      <td>0.055422</td>\n",
       "      <td>13289.489826</td>\n",
       "      <td>22.052648</td>\n",
       "      <td>0.043479</td>\n",
       "    </tr>\n",
       "    <tr>\n",
       "      <th>std</th>\n",
       "      <td>7348.441646</td>\n",
       "      <td>7090.306027</td>\n",
       "      <td>7022.720644</td>\n",
       "      <td>208.639215</td>\n",
       "      <td>6.421868e+04</td>\n",
       "      <td>6.673044</td>\n",
       "      <td>0.492271</td>\n",
       "      <td>1.071546</td>\n",
       "      <td>4.401588</td>\n",
       "      <td>0.237804</td>\n",
       "      <td>15866.492241</td>\n",
       "      <td>11.425861</td>\n",
       "      <td>0.204583</td>\n",
       "    </tr>\n",
       "    <tr>\n",
       "      <th>min</th>\n",
       "      <td>500.000000</td>\n",
       "      <td>500.000000</td>\n",
       "      <td>0.000000</td>\n",
       "      <td>15.690000</td>\n",
       "      <td>4.000000e+03</td>\n",
       "      <td>0.000000</td>\n",
       "      <td>0.000000</td>\n",
       "      <td>0.000000</td>\n",
       "      <td>2.000000</td>\n",
       "      <td>0.000000</td>\n",
       "      <td>0.000000</td>\n",
       "      <td>2.000000</td>\n",
       "      <td>0.000000</td>\n",
       "    </tr>\n",
       "    <tr>\n",
       "      <th>25%</th>\n",
       "      <td>5300.000000</td>\n",
       "      <td>5200.000000</td>\n",
       "      <td>5000.000000</td>\n",
       "      <td>165.740000</td>\n",
       "      <td>4.000000e+04</td>\n",
       "      <td>8.130000</td>\n",
       "      <td>0.000000</td>\n",
       "      <td>0.000000</td>\n",
       "      <td>6.000000</td>\n",
       "      <td>0.000000</td>\n",
       "      <td>3650.000000</td>\n",
       "      <td>13.000000</td>\n",
       "      <td>0.000000</td>\n",
       "    </tr>\n",
       "    <tr>\n",
       "      <th>50%</th>\n",
       "      <td>9600.000000</td>\n",
       "      <td>9550.000000</td>\n",
       "      <td>8733.440000</td>\n",
       "      <td>277.860000</td>\n",
       "      <td>5.886800e+04</td>\n",
       "      <td>13.370000</td>\n",
       "      <td>0.000000</td>\n",
       "      <td>1.000000</td>\n",
       "      <td>9.000000</td>\n",
       "      <td>0.000000</td>\n",
       "      <td>8762.000000</td>\n",
       "      <td>20.000000</td>\n",
       "      <td>0.000000</td>\n",
       "    </tr>\n",
       "    <tr>\n",
       "      <th>75%</th>\n",
       "      <td>15000.000000</td>\n",
       "      <td>15000.000000</td>\n",
       "      <td>14000.000000</td>\n",
       "      <td>425.550000</td>\n",
       "      <td>8.200000e+04</td>\n",
       "      <td>18.560000</td>\n",
       "      <td>0.000000</td>\n",
       "      <td>1.000000</td>\n",
       "      <td>12.000000</td>\n",
       "      <td>0.000000</td>\n",
       "      <td>16912.000000</td>\n",
       "      <td>29.000000</td>\n",
       "      <td>0.000000</td>\n",
       "    </tr>\n",
       "    <tr>\n",
       "      <th>max</th>\n",
       "      <td>35000.000000</td>\n",
       "      <td>35000.000000</td>\n",
       "      <td>35000.000000</td>\n",
       "      <td>1305.190000</td>\n",
       "      <td>6.000000e+06</td>\n",
       "      <td>29.990000</td>\n",
       "      <td>11.000000</td>\n",
       "      <td>8.000000</td>\n",
       "      <td>44.000000</td>\n",
       "      <td>4.000000</td>\n",
       "      <td>149588.000000</td>\n",
       "      <td>90.000000</td>\n",
       "      <td>2.000000</td>\n",
       "    </tr>\n",
       "  </tbody>\n",
       "</table>\n",
       "</div>"
      ],
      "text/plain": [
       "          loan_amnt   funded_amnt  funded_amnt_inv   installment  \\\n",
       "count  38577.000000  38577.000000     38577.000000  38577.000000   \n",
       "mean   11047.025430  10784.058506     10222.481123    322.466318   \n",
       "std     7348.441646   7090.306027      7022.720644    208.639215   \n",
       "min      500.000000    500.000000         0.000000     15.690000   \n",
       "25%     5300.000000   5200.000000      5000.000000    165.740000   \n",
       "50%     9600.000000   9550.000000      8733.440000    277.860000   \n",
       "75%    15000.000000  15000.000000     14000.000000    425.550000   \n",
       "max    35000.000000  35000.000000     35000.000000   1305.190000   \n",
       "\n",
       "         annual_inc           dti   delinq_2yrs  inq_last_6mths      open_acc  \\\n",
       "count  3.857700e+04  38577.000000  38577.000000    38577.000000  38577.000000   \n",
       "mean   6.877797e+04     13.272727      0.146668        0.871737      9.275423   \n",
       "std    6.421868e+04      6.673044      0.492271        1.071546      4.401588   \n",
       "min    4.000000e+03      0.000000      0.000000        0.000000      2.000000   \n",
       "25%    4.000000e+04      8.130000      0.000000        0.000000      6.000000   \n",
       "50%    5.886800e+04     13.370000      0.000000        1.000000      9.000000   \n",
       "75%    8.200000e+04     18.560000      0.000000        1.000000     12.000000   \n",
       "max    6.000000e+06     29.990000     11.000000        8.000000     44.000000   \n",
       "\n",
       "            pub_rec      revol_bal     total_acc  pub_rec_bankruptcies  \n",
       "count  38577.000000   38577.000000  38577.000000          37880.000000  \n",
       "mean       0.055422   13289.489826     22.052648              0.043479  \n",
       "std        0.237804   15866.492241     11.425861              0.204583  \n",
       "min        0.000000       0.000000      2.000000              0.000000  \n",
       "25%        0.000000    3650.000000     13.000000              0.000000  \n",
       "50%        0.000000    8762.000000     20.000000              0.000000  \n",
       "75%        0.000000   16912.000000     29.000000              0.000000  \n",
       "max        4.000000  149588.000000     90.000000              2.000000  "
      ]
     },
     "execution_count": 27,
     "metadata": {},
     "output_type": "execute_result"
    }
   ],
   "source": [
    "loan.describe()"
   ]
  },
  {
   "cell_type": "code",
   "execution_count": 28,
   "id": "fc775c44",
   "metadata": {
    "id": "fc775c44",
    "outputId": "4491fca4-5bed-482e-926b-0879aec713fa"
   },
   "outputs": [
    {
     "data": {
      "text/plain": [
       "loan_status\n",
       "Fully Paid     32950\n",
       "Charged Off     5627\n",
       "Name: count, dtype: int64"
      ]
     },
     "execution_count": 28,
     "metadata": {},
     "output_type": "execute_result"
    }
   ],
   "source": [
    "loan['loan_status'].value_counts()"
   ]
  },
  {
   "cell_type": "markdown",
   "id": "47a12ae9-2537-4e9d-99e0-e0021791e413",
   "metadata": {
    "id": "47a12ae9-2537-4e9d-99e0-e0021791e413"
   },
   "source": [
    "#### Data analysis on Term"
   ]
  },
  {
   "cell_type": "code",
   "execution_count": 30,
   "id": "cd26f63e",
   "metadata": {
    "id": "cd26f63e",
    "outputId": "03fc764f-3da9-415e-83bf-b41e0be75f93"
   },
   "outputs": [
    {
     "data": {
      "text/plain": [
       "term\n",
       "36 months    29096\n",
       "60 months     9481\n",
       "Name: count, dtype: int64"
      ]
     },
     "execution_count": 30,
     "metadata": {},
     "output_type": "execute_result"
    }
   ],
   "source": [
    "#Let us analise the interest rate and years/duration .\n",
    "loan['term'].value_counts()"
   ]
  },
  {
   "cell_type": "markdown",
   "id": "678ea075-a74d-4de8-80f1-9b0b8571d8e9",
   "metadata": {
    "id": "678ea075-a74d-4de8-80f1-9b0b8571d8e9"
   },
   "source": [
    "#### Data analysis on Interest Rate"
   ]
  },
  {
   "cell_type": "code",
   "execution_count": 32,
   "id": "694aa09e-bc75-41af-8ee7-bc1482bcf5f5",
   "metadata": {
    "id": "694aa09e-bc75-41af-8ee7-bc1482bcf5f5",
    "outputId": "b4db805b-9cc6-4c68-b620-f51f85736680"
   },
   "outputs": [
    {
     "data": {
      "text/plain": [
       "int_rate\n",
       "10.99%    913\n",
       "11.49%    790\n",
       "7.51%     787\n",
       "13.49%    749\n",
       "7.88%     725\n",
       "         ... \n",
       "16.96%      1\n",
       "18.36%      1\n",
       "16.15%      1\n",
       "16.01%      1\n",
       "16.20%      1\n",
       "Name: count, Length: 370, dtype: int64"
      ]
     },
     "execution_count": 32,
     "metadata": {},
     "output_type": "execute_result"
    }
   ],
   "source": [
    "loan['int_rate'].value_counts()"
   ]
  },
  {
   "cell_type": "code",
   "execution_count": 33,
   "id": "76f4345c",
   "metadata": {
    "id": "76f4345c"
   },
   "outputs": [],
   "source": [
    "# For analysis of Interest Rate, it should be a numeric."
   ]
  },
  {
   "cell_type": "code",
   "execution_count": 34,
   "id": "12eec866",
   "metadata": {
    "id": "12eec866",
    "outputId": "5ff0fa71-ab32-4416-a990-ee4d2330b64b"
   },
   "outputs": [
    {
     "data": {
      "text/plain": [
       "count    38577.000000\n",
       "mean        11.932219\n",
       "std          3.691327\n",
       "min          5.420000\n",
       "25%          8.940000\n",
       "50%         11.710000\n",
       "75%         14.380000\n",
       "max         24.400000\n",
       "Name: int_rate, dtype: float64"
      ]
     },
     "execution_count": 34,
     "metadata": {},
     "output_type": "execute_result"
    }
   ],
   "source": [
    "# Removing % and converting to Numeric\n",
    "loan['int_rate'] = loan['int_rate'].apply(lambda x: pd.to_numeric(x.split(\"%\")[0]))\n",
    "loan['int_rate'].describe()"
   ]
  },
  {
   "cell_type": "code",
   "execution_count": 35,
   "id": "9a4862a1",
   "metadata": {
    "id": "9a4862a1",
    "outputId": "4712e8d3-e8d8-4d16-8732-4b43e4b77530"
   },
   "outputs": [
    {
     "data": {
      "text/plain": [
       "<Axes: >"
      ]
     },
     "execution_count": 35,
     "metadata": {},
     "output_type": "execute_result"
    },
    {
     "data": {
      "image/png": "[encoded data removed]",
      "text/plain": [
       "<Figure size 640x480 with 1 Axes>"
      ]
     },
     "metadata": {},
     "output_type": "display_data"
    }
   ],
   "source": [
    "# Drawing plot graph to understand any outliers.\n",
    "loan['int_rate'].plot.box()"
   ]
  },
  {
   "cell_type": "code",
   "execution_count": 36,
   "id": "7da38976-e584-40e9-b63d-5a9e1b23e57b",
   "metadata": {
    "id": "7da38976-e584-40e9-b63d-5a9e1b23e57b"
   },
   "outputs": [],
   "source": [
    "# NOTE: From above graph, there are some outliers. we need to cleanup this before analysis."
   ]
  },
  {
   "cell_type": "markdown",
   "id": "87da8fc8-e8ab-4d06-9704-d1397538d560",
   "metadata": {
    "id": "87da8fc8-e8ab-4d06-9704-d1397538d560"
   },
   "source": [
    "#### Data analysis on Grade"
   ]
  },
  {
   "cell_type": "code",
   "execution_count": 38,
   "id": "f4893806",
   "metadata": {
    "id": "f4893806",
    "outputId": "0848c436-e641-40f2-f267-dab56c7d88b6"
   },
   "outputs": [
    {
     "data": {
      "text/plain": [
       "grade\n",
       "B    11675\n",
       "A    10045\n",
       "C     7834\n",
       "D     5085\n",
       "E     2663\n",
       "F      976\n",
       "G      299\n",
       "Name: count, dtype: int64"
      ]
     },
     "execution_count": 38,
     "metadata": {},
     "output_type": "execute_result"
    }
   ],
   "source": [
    "loan['grade'].value_counts()"
   ]
  },
  {
   "cell_type": "markdown",
   "id": "d291cf71-18fa-469c-bdb8-1f4b6ca9cfad",
   "metadata": {
    "id": "d291cf71-18fa-469c-bdb8-1f4b6ca9cfad"
   },
   "source": [
    "#### Data analysis on Sub grade"
   ]
  },
  {
   "cell_type": "code",
   "execution_count": 40,
   "id": "f4c4fa09",
   "metadata": {
    "id": "f4c4fa09",
    "outputId": "dd74132a-fb97-43fa-f2cb-ad91b7c82e4d",
    "scrolled": true
   },
   "outputs": [
    {
     "data": {
      "text/plain": [
       "sub_grade\n",
       "A4    2873\n",
       "B3    2825\n",
       "A5    2715\n",
       "B5    2615\n",
       "B4    2437\n",
       "C1    2055\n",
       "B2    2001\n",
       "C2    1931\n",
       "A3    1810\n",
       "B1    1797\n",
       "A2    1508\n",
       "C3    1488\n",
       "D2    1286\n",
       "C4    1206\n",
       "C5    1154\n",
       "A1    1139\n",
       "D3    1116\n",
       "D1     931\n",
       "D4     918\n",
       "D5     834\n",
       "E1     722\n",
       "E2     614\n",
       "E3     516\n",
       "E4     424\n",
       "E5     387\n",
       "F1     305\n",
       "F2     233\n",
       "F3     174\n",
       "F4     151\n",
       "F5     113\n",
       "G1      94\n",
       "G2      77\n",
       "G4      54\n",
       "G3      45\n",
       "G5      29\n",
       "Name: count, dtype: int64"
      ]
     },
     "execution_count": 40,
     "metadata": {},
     "output_type": "execute_result"
    }
   ],
   "source": [
    "loan['sub_grade'].value_counts()"
   ]
  },
  {
   "cell_type": "markdown",
   "id": "abf2ec69-a8f9-47a7-98c2-f37d5a264d58",
   "metadata": {
    "id": "abf2ec69-a8f9-47a7-98c2-f37d5a264d58"
   },
   "source": [
    "#### Data analysis on Employee Title"
   ]
  },
  {
   "cell_type": "code",
   "execution_count": 42,
   "id": "b0af6f78",
   "metadata": {
    "id": "b0af6f78",
    "outputId": "30e83881-1eec-4f25-c6a2-638f390740be"
   },
   "outputs": [
    {
     "name": "stdout",
     "output_type": "stream",
     "text": [
      "emp_title\n",
      "US Army              131\n",
      "Bank of America      107\n",
      "IBM                   65\n",
      "AT&T                  57\n",
      "Kaiser Permanente     56\n",
      "Name: count, dtype: int64\n",
      "(28028,)\n"
     ]
    }
   ],
   "source": [
    "print(loan['emp_title'].value_counts().head())\n",
    "print(loan['emp_title'].unique().shape)"
   ]
  },
  {
   "cell_type": "markdown",
   "id": "1c5fd234-e9d0-4ad5-8239-2e65d8442e36",
   "metadata": {
    "id": "1c5fd234-e9d0-4ad5-8239-2e65d8442e36"
   },
   "source": [
    "#### Data analysis on Employee Length (From how many years he/she is an employee)"
   ]
  },
  {
   "cell_type": "code",
   "execution_count": 44,
   "id": "152fd5b5",
   "metadata": {
    "id": "152fd5b5",
    "outputId": "4743518b-537c-492c-a57b-563df016c137"
   },
   "outputs": [
    {
     "data": {
      "text/plain": [
       "emp_length\n",
       "10+ years    8488\n",
       "< 1 year     4508\n",
       "2 years      4291\n",
       "3 years      4012\n",
       "4 years      3342\n",
       "5 years      3194\n",
       "1 year       3169\n",
       "6 years      2168\n",
       "7 years      1711\n",
       "8 years      1435\n",
       "9 years      1226\n",
       "Name: count, dtype: int64"
      ]
     },
     "execution_count": 44,
     "metadata": {},
     "output_type": "execute_result"
    }
   ],
   "source": [
    "loan['emp_length'].value_counts()"
   ]
  },
  {
   "cell_type": "markdown",
   "id": "e028d67f-7c77-464a-a16e-3c4c103c3ac8",
   "metadata": {
    "id": "e028d67f-7c77-464a-a16e-3c4c103c3ac8"
   },
   "source": [
    "#### Data analysis on Home Ownership"
   ]
  },
  {
   "cell_type": "code",
   "execution_count": 46,
   "id": "eed9cac5",
   "metadata": {
    "id": "eed9cac5",
    "outputId": "7ccf94a0-99a1-441a-82b7-b415611d2c68"
   },
   "outputs": [
    {
     "data": {
      "text/plain": [
       "home_ownership\n",
       "RENT        18480\n",
       "MORTGAGE    17021\n",
       "OWN          2975\n",
       "OTHER          98\n",
       "NONE            3\n",
       "Name: count, dtype: int64"
      ]
     },
     "execution_count": 46,
     "metadata": {},
     "output_type": "execute_result"
    }
   ],
   "source": [
    "#Let's see how many has home_ownership\n",
    "loan['home_ownership'].value_counts()"
   ]
  },
  {
   "cell_type": "markdown",
   "id": "3e886b25-4c77-4167-8788-0a9671c4a53e",
   "metadata": {
    "id": "3e886b25-4c77-4167-8788-0a9671c4a53e"
   },
   "source": [
    "#### Data analysis on Verification status"
   ]
  },
  {
   "cell_type": "code",
   "execution_count": 48,
   "id": "209dd6e3-3d93-4b3f-acb8-4aff711372ee",
   "metadata": {
    "id": "209dd6e3-3d93-4b3f-acb8-4aff711372ee",
    "outputId": "aaeae6f5-1287-484a-cdb1-5196644dac35"
   },
   "outputs": [
    {
     "data": {
      "text/plain": [
       "verification_status\n",
       "Not Verified       16694\n",
       "Verified           12206\n",
       "Source Verified     9677\n",
       "Name: count, dtype: int64"
      ]
     },
     "execution_count": 48,
     "metadata": {},
     "output_type": "execute_result"
    }
   ],
   "source": [
    "loan['verification_status'].value_counts()"
   ]
  },
  {
   "cell_type": "code",
   "execution_count": 49,
   "id": "aa374b84-85d8-4480-82df-cef2d905a98c",
   "metadata": {
    "id": "aa374b84-85d8-4480-82df-cef2d905a98c"
   },
   "outputs": [],
   "source": [
    "#### Data analysis on Issue_d"
   ]
  },
  {
   "cell_type": "code",
   "execution_count": 50,
   "id": "f3645115",
   "metadata": {
    "id": "f3645115",
    "outputId": "01a073e7-a70c-4cef-bf36-89e205bf6a7f"
   },
   "outputs": [
    {
     "data": {
      "text/plain": [
       "0    Dec-11\n",
       "1    Dec-11\n",
       "2    Dec-11\n",
       "3    Dec-11\n",
       "5    Dec-11\n",
       "Name: issue_d, dtype: object"
      ]
     },
     "execution_count": 50,
     "metadata": {},
     "output_type": "execute_result"
    }
   ],
   "source": [
    "# Extract the month in which loan funded.\n",
    "loan['issue_d'].head()"
   ]
  },
  {
   "cell_type": "code",
   "execution_count": 51,
   "id": "cbde7fb4-e0e0-4228-9e7d-153127d4d9d6",
   "metadata": {
    "id": "cbde7fb4-e0e0-4228-9e7d-153127d4d9d6"
   },
   "outputs": [],
   "source": [
    "import datetime as dt\n",
    "loan['issue_month'] = loan['issue_d'].apply(lambda x : dt.datetime.strptime(x, '%b-%y').month)"
   ]
  },
  {
   "cell_type": "code",
   "execution_count": 52,
   "id": "15397d4c-bd3c-4e72-85a0-45010d1e1dcd",
   "metadata": {
    "id": "15397d4c-bd3c-4e72-85a0-45010d1e1dcd",
    "outputId": "8365d4d5-55f5-4c0d-d6ba-ed09b3be9732"
   },
   "outputs": [
    {
     "data": {
      "text/plain": [
       "issue_month\n",
       "12    4215\n",
       "11    4006\n",
       "10    3761\n",
       "9     3498\n",
       "8     3388\n",
       "7     3351\n",
       "6     3180\n",
       "5     2919\n",
       "4     2831\n",
       "3     2691\n",
       "1     2379\n",
       "2     2358\n",
       "Name: count, dtype: int64"
      ]
     },
     "execution_count": 52,
     "metadata": {},
     "output_type": "execute_result"
    }
   ],
   "source": [
    "loan['issue_month'].value_counts()"
   ]
  },
  {
   "cell_type": "code",
   "execution_count": 53,
   "id": "50455a70",
   "metadata": {
    "id": "50455a70",
    "scrolled": true
   },
   "outputs": [],
   "source": [
    "# Extract the year in which loan funded.\n",
    "loan['issue_year'] = loan['issue_d'].apply(lambda x : dt.datetime.strptime(x, '%b-%y').year)"
   ]
  },
  {
   "cell_type": "code",
   "execution_count": 54,
   "id": "2395387f-2906-477c-a070-c36535f67ce4",
   "metadata": {
    "id": "2395387f-2906-477c-a070-c36535f67ce4",
    "outputId": "9f6dd45e-f011-4d54-985a-51ed87ea3cca"
   },
   "outputs": [
    {
     "data": {
      "text/plain": [
       "issue_year\n",
       "2011    20516\n",
       "2010    11532\n",
       "2009     4716\n",
       "2008     1562\n",
       "2007      251\n",
       "Name: count, dtype: int64"
      ]
     },
     "execution_count": 54,
     "metadata": {},
     "output_type": "execute_result"
    }
   ],
   "source": [
    "loan['issue_year'].value_counts()"
   ]
  },
  {
   "cell_type": "markdown",
   "id": "2afa9b63-3f31-4d3b-ab08-b718f9dbf8d9",
   "metadata": {
    "id": "2afa9b63-3f31-4d3b-ab08-b718f9dbf8d9"
   },
   "source": [
    "#### Analysis on purpose, Checking the Purpose of borrows"
   ]
  },
  {
   "cell_type": "code",
   "execution_count": 56,
   "id": "b5fb6bcd-0e36-4b44-8a50-2d7753ed2942",
   "metadata": {
    "id": "b5fb6bcd-0e36-4b44-8a50-2d7753ed2942",
    "outputId": "759579a7-5f7c-421b-82b4-5b741313349e"
   },
   "outputs": [
    {
     "data": {
      "text/plain": [
       "purpose\n",
       "debt_consolidation    18055\n",
       "credit_card            5027\n",
       "other                  3865\n",
       "home_improvement       2875\n",
       "major_purchase         2150\n",
       "small_business         1754\n",
       "car                    1499\n",
       "wedding                 926\n",
       "medical                 681\n",
       "moving                  576\n",
       "vacation                375\n",
       "house                   367\n",
       "educational             325\n",
       "renewable_energy        102\n",
       "Name: count, dtype: int64"
      ]
     },
     "execution_count": 56,
     "metadata": {},
     "output_type": "execute_result"
    }
   ],
   "source": [
    "loan['purpose'].value_counts()"
   ]
  },
  {
   "cell_type": "code",
   "execution_count": 57,
   "id": "b8a4f04d-d6ea-4de1-aaa0-35789c8e9d8c",
   "metadata": {
    "id": "b8a4f04d-d6ea-4de1-aaa0-35789c8e9d8c",
    "outputId": "464750ef-3574-4c9f-981d-69f9ce4ac292"
   },
   "outputs": [
    {
     "data": {
      "text/plain": [
       "title\n",
       "Debt Consolidation           2090\n",
       "Debt Consolidation Loan      1620\n",
       "Personal Loan                 641\n",
       "Consolidation                 491\n",
       "debt consolidation            478\n",
       "                             ... \n",
       "Murray Loan                     1\n",
       "Need debt consolidation!        1\n",
       "freedom2                        1\n",
       "DAVE WEDDING                    1\n",
       "JAL Loan                        1\n",
       "Name: count, Length: 19297, dtype: int64"
      ]
     },
     "execution_count": 57,
     "metadata": {},
     "output_type": "execute_result"
    }
   ],
   "source": [
    "loan['title'].value_counts()"
   ]
  },
  {
   "cell_type": "markdown",
   "id": "7b856540-fc2f-46f4-baf5-653398f22e05",
   "metadata": {
    "id": "7b856540-fc2f-46f4-baf5-653398f22e05"
   },
   "source": [
    "#### Purpose and Title most resembles the same and context is also on Purpose so no need of Title column"
   ]
  },
  {
   "cell_type": "code",
   "execution_count": 59,
   "id": "2f455978-89b5-4073-9af2-32234cdfcfba",
   "metadata": {
    "id": "2f455978-89b5-4073-9af2-32234cdfcfba"
   },
   "outputs": [],
   "source": [
    "loan.drop(columns=['title'], inplace=True)"
   ]
  },
  {
   "cell_type": "code",
   "execution_count": 60,
   "id": "d2c9dacf-937f-49d8-8183-ad6477560fb2",
   "metadata": {
    "id": "d2c9dacf-937f-49d8-8183-ad6477560fb2",
    "outputId": "b6d5b58c-5586-475d-d6bc-aeb82f9c54c2"
   },
   "outputs": [
    {
     "data": {
      "text/plain": [
       "Index(['loan_amnt', 'funded_amnt', 'funded_amnt_inv', 'term', 'int_rate',\n",
       "       'installment', 'grade', 'sub_grade', 'emp_title', 'emp_length',\n",
       "       'home_ownership', 'annual_inc', 'verification_status', 'issue_d',\n",
       "       'loan_status', 'purpose', 'addr_state', 'dti', 'delinq_2yrs',\n",
       "       'earliest_cr_line', 'inq_last_6mths', 'open_acc', 'pub_rec',\n",
       "       'revol_bal', 'revol_util', 'total_acc', 'pub_rec_bankruptcies',\n",
       "       'issue_month', 'issue_year'],\n",
       "      dtype='object')"
      ]
     },
     "execution_count": 60,
     "metadata": {},
     "output_type": "execute_result"
    }
   ],
   "source": [
    "## Confirming title column is dropped.\n",
    "loan.columns"
   ]
  },
  {
   "cell_type": "markdown",
   "id": "6bac452b-d0f1-47e7-8f45-0a1a5081abba",
   "metadata": {
    "id": "6bac452b-d0f1-47e7-8f45-0a1a5081abba"
   },
   "source": [
    "#### checking early credit line data format for further analysis."
   ]
  },
  {
   "cell_type": "code",
   "execution_count": 62,
   "id": "f88a83f8-1754-4132-af64-c9768329c7f3",
   "metadata": {
    "id": "f88a83f8-1754-4132-af64-c9768329c7f3",
    "outputId": "59c08ff4-190e-4170-8d1e-3f5bacdbdedc",
    "scrolled": true
   },
   "outputs": [
    {
     "data": {
      "text/plain": [
       "earliest_cr_line\n",
       "Oct-99    360\n",
       "Nov-98    357\n",
       "Oct-00    341\n",
       "Dec-98    340\n",
       "Dec-97    318\n",
       "         ... \n",
       "Nov-65      1\n",
       "Feb-73      1\n",
       "Oct-08      1\n",
       "Dec-61      1\n",
       "Oct-74      1\n",
       "Name: count, Length: 524, dtype: int64"
      ]
     },
     "execution_count": 62,
     "metadata": {},
     "output_type": "execute_result"
    }
   ],
   "source": [
    "loan['earliest_cr_line'].value_counts()"
   ]
  },
  {
   "cell_type": "code",
   "execution_count": 63,
   "id": "ce70d6f6-9e70-4740-8cfa-fc3a9b6b3bd3",
   "metadata": {
    "id": "ce70d6f6-9e70-4740-8cfa-fc3a9b6b3bd3"
   },
   "outputs": [],
   "source": [
    "# There are few values like Nov-20 and few values like 20-Dec, so normalising to single pattern Dec-20\n",
    "# Year is mentioned in 2 digits. 98 means it should be 1998 not 2098. so any thing more than todays year we need to substract by 100 post 2000 addition.\n",
    "# Number of days count of early credit lines."
   ]
  },
  {
   "cell_type": "code",
   "execution_count": 64,
   "id": "68bc3772-b49c-4458-b55f-1bf6a0334881",
   "metadata": {
    "id": "68bc3772-b49c-4458-b55f-1bf6a0334881"
   },
   "outputs": [],
   "source": [
    "def calculateNumberOfDays (d):\n",
    "    m, y = d.split('-')\n",
    "    if y in ['Jan','Feb','Mar','Apr','May','Jun','Jul','Aug','Sep','Oct','Nov','Dec']:\n",
    "        y, m = d.split('-')\n",
    "    y = 2000 + int(y)\n",
    "    if y > today.year:\n",
    "        y -= 100\n",
    "    earliest_cr_line = datetime.strptime(str(y)+'-'+m+'-1', '%Y-%b-%d')\n",
    "    return (today - earliest_cr_line).days"
   ]
  },
  {
   "cell_type": "code",
   "execution_count": 65,
   "id": "bc26a161-980d-4f24-9fd9-7f2d59ca33b6",
   "metadata": {
    "id": "bc26a161-980d-4f24-9fd9-7f2d59ca33b6",
    "outputId": "72134289-c396-4de2-98ce-151731989917"
   },
   "outputs": [
    {
     "data": {
      "text/plain": [
       "1388"
      ]
     },
     "execution_count": 65,
     "metadata": {},
     "output_type": "execute_result"
    }
   ],
   "source": [
    "calculateNumberOfDays(\"Nov-20\")"
   ]
  },
  {
   "cell_type": "code",
   "execution_count": 66,
   "id": "33a16c49-fa73-4946-823f-1e433fd5381b",
   "metadata": {
    "id": "33a16c49-fa73-4946-823f-1e433fd5381b"
   },
   "outputs": [],
   "source": [
    "# Adding to new column.\n",
    "loan['no_of_days_from_earliest_cr_line'] = loan['earliest_cr_line'].apply(calculateNumberOfDays)"
   ]
  },
  {
   "cell_type": "code",
   "execution_count": 67,
   "id": "d647f554-afc0-451a-b14d-2d894c4bfd30",
   "metadata": {
    "id": "d647f554-afc0-451a-b14d-2d894c4bfd30",
    "outputId": "a5a072fa-67b7-4e0f-de74-42434e2e3b7e"
   },
   "outputs": [
    {
     "data": {
      "text/plain": [
       "count    38577.000000\n",
       "mean     10058.981647\n",
       "std       2491.854695\n",
       "min       5771.000000\n",
       "25%       8389.000000\n",
       "50%       9608.000000\n",
       "75%      11220.000000\n",
       "max      28721.000000\n",
       "Name: no_of_days_from_earliest_cr_line, dtype: float64"
      ]
     },
     "execution_count": 67,
     "metadata": {},
     "output_type": "execute_result"
    }
   ],
   "source": [
    "# Verifiying number of days\n",
    "loan['no_of_days_from_earliest_cr_line'].describe()"
   ]
  },
  {
   "cell_type": "code",
   "execution_count": 68,
   "id": "76a43137-8fbf-44c1-8603-025d79d29a19",
   "metadata": {
    "id": "76a43137-8fbf-44c1-8603-025d79d29a19"
   },
   "outputs": [],
   "source": [
    "# Since we calculated number of days and added new column so we do not need earliest_cr_line hence dropping column earliest_cr_line\n",
    "\n",
    "loan.drop(columns=['earliest_cr_line'], inplace=True)"
   ]
  },
  {
   "cell_type": "code",
   "execution_count": 69,
   "id": "eb4f8412-b725-45e4-9eb2-14bfcc6daba5",
   "metadata": {
    "id": "eb4f8412-b725-45e4-9eb2-14bfcc6daba5",
    "outputId": "314671d6-7240-49cd-be8d-17e93223353c"
   },
   "outputs": [
    {
     "data": {
      "text/plain": [
       "0    83.70%\n",
       "1     9.40%\n",
       "2    98.50%\n",
       "3       21%\n",
       "5    28.30%\n",
       "Name: revol_util, dtype: object"
      ]
     },
     "execution_count": 69,
     "metadata": {},
     "output_type": "execute_result"
    }
   ],
   "source": [
    "loan['revol_util'].head()"
   ]
  },
  {
   "cell_type": "code",
   "execution_count": 70,
   "id": "50186645-44ca-40d3-b82e-91e32ff28b0d",
   "metadata": {
    "id": "50186645-44ca-40d3-b82e-91e32ff28b0d",
    "outputId": "bd3843f4-42ef-4e9f-c2f0-7b7ff14db2db",
    "scrolled": true
   },
   "outputs": [
    {
     "data": {
      "text/plain": [
       "count    38527.000000\n",
       "mean        48.702777\n",
       "std         28.364741\n",
       "min          0.000000\n",
       "25%         25.200000\n",
       "50%         49.100000\n",
       "75%         72.300000\n",
       "max         99.900000\n",
       "Name: revol_util, dtype: float64"
      ]
     },
     "execution_count": 70,
     "metadata": {},
     "output_type": "execute_result"
    }
   ],
   "source": [
    "# Revolving line utilization rate, or the amount of credit the borrower is using relative to all available revolving credit.\n",
    "# revol_util if all available revolving credit already used, potential reason to reject loan\n",
    "\n",
    "loan['revol_util'] = pd.Series(loan['revol_util']).str.replace('%', '').astype(float)\n",
    "loan['revol_util'].describe()"
   ]
  },
  {
   "cell_type": "code",
   "execution_count": 71,
   "id": "79730fca-a539-4eb4-9aff-242cd56631a3",
   "metadata": {
    "id": "79730fca-a539-4eb4-9aff-242cd56631a3",
    "outputId": "e81abafe-2baf-4c32-b375-251e4bf3dd5d"
   },
   "outputs": [
    {
     "name": "stdout",
     "output_type": "stream",
     "text": [
      "<class 'pandas.core.frame.DataFrame'>\n",
      "Index: 38577 entries, 0 to 39716\n",
      "Data columns (total 29 columns):\n",
      " #   Column                            Non-Null Count  Dtype  \n",
      "---  ------                            --------------  -----  \n",
      " 0   loan_amnt                         38577 non-null  int64  \n",
      " 1   funded_amnt                       38577 non-null  int64  \n",
      " 2   funded_amnt_inv                   38577 non-null  float64\n",
      " 3   term                              38577 non-null  object \n",
      " 4   int_rate                          38577 non-null  float64\n",
      " 5   installment                       38577 non-null  float64\n",
      " 6   grade                             38577 non-null  object \n",
      " 7   sub_grade                         38577 non-null  object \n",
      " 8   emp_title                         36191 non-null  object \n",
      " 9   emp_length                        37544 non-null  object \n",
      " 10  home_ownership                    38577 non-null  object \n",
      " 11  annual_inc                        38577 non-null  float64\n",
      " 12  verification_status               38577 non-null  object \n",
      " 13  issue_d                           38577 non-null  object \n",
      " 14  loan_status                       38577 non-null  object \n",
      " 15  purpose                           38577 non-null  object \n",
      " 16  addr_state                        38577 non-null  object \n",
      " 17  dti                               38577 non-null  float64\n",
      " 18  delinq_2yrs                       38577 non-null  int64  \n",
      " 19  inq_last_6mths                    38577 non-null  int64  \n",
      " 20  open_acc                          38577 non-null  int64  \n",
      " 21  pub_rec                           38577 non-null  int64  \n",
      " 22  revol_bal                         38577 non-null  int64  \n",
      " 23  revol_util                        38527 non-null  float64\n",
      " 24  total_acc                         38577 non-null  int64  \n",
      " 25  pub_rec_bankruptcies              37880 non-null  float64\n",
      " 26  issue_month                       38577 non-null  int64  \n",
      " 27  issue_year                        38577 non-null  int64  \n",
      " 28  no_of_days_from_earliest_cr_line  38577 non-null  int64  \n",
      "dtypes: float64(7), int64(11), object(11)\n",
      "memory usage: 8.8+ MB\n"
     ]
    }
   ],
   "source": [
    "loan.info()"
   ]
  },
  {
   "cell_type": "code",
   "execution_count": 72,
   "id": "cb4849b2-ca38-49f1-84c0-eb53b43bfed2",
   "metadata": {
    "id": "cb4849b2-ca38-49f1-84c0-eb53b43bfed2",
    "outputId": "10f3d0d6-8f72-4730-ebc6-a12bbcc906b8",
    "scrolled": true
   },
   "outputs": [
    {
     "data": {
      "text/plain": [
       "loan_status\n",
       "Fully Paid     0.854136\n",
       "Charged Off    0.145864\n",
       "Name: proportion, dtype: float64"
      ]
     },
     "execution_count": 72,
     "metadata": {},
     "output_type": "execute_result"
    }
   ],
   "source": [
    "# Checking the status of fully paid vs defaulters in percentage\n",
    "loan_status_percent = loan['loan_status'].value_counts(normalize=True)\n",
    "loan_status_percent"
   ]
  },
  {
   "cell_type": "markdown",
   "id": "46c3c3db-297a-4389-aff4-9817a958e54a",
   "metadata": {
    "id": "46c3c3db-297a-4389-aff4-9817a958e54a"
   },
   "source": [
    "## Univariate Analysis"
   ]
  },
  {
   "cell_type": "code",
   "execution_count": 74,
   "id": "139f4326-b788-4a14-af97-b57c2aa04cfc",
   "metadata": {
    "id": "139f4326-b788-4a14-af97-b57c2aa04cfc"
   },
   "outputs": [],
   "source": [
    "# Loan status has two types Fully Paid and Charged Off data type is string and converting to numeric for ease of analysis\n",
    "loan['loan_status_num'] = loan['loan_status'].apply(lambda x: 1 if x=='Charged Off' else 0)"
   ]
  },
  {
   "cell_type": "code",
   "execution_count": 75,
   "id": "fca4daa7-31d1-4cc9-994f-ed0f6c9b78f0",
   "metadata": {
    "id": "fca4daa7-31d1-4cc9-994f-ed0f6c9b78f0",
    "outputId": "e5cfff06-4848-4018-adf6-f2f4d8e08cc3"
   },
   "outputs": [
    {
     "data": {
      "text/html": [
       "<div>\n",
       "<style scoped>\n",
       "    .dataframe tbody tr th:only-of-type {\n",
       "        vertical-align: middle;\n",
       "    }\n",
       "\n",
       "    .dataframe tbody tr th {\n",
       "        vertical-align: top;\n",
       "    }\n",
       "\n",
       "    .dataframe thead th {\n",
       "        text-align: right;\n",
       "    }\n",
       "</style>\n",
       "<table border=\"1\" class=\"dataframe\">\n",
       "  <thead>\n",
       "    <tr style=\"text-align: right;\">\n",
       "      <th></th>\n",
       "      <th>loan_amnt</th>\n",
       "      <th>funded_amnt</th>\n",
       "      <th>funded_amnt_inv</th>\n",
       "      <th>term</th>\n",
       "      <th>int_rate</th>\n",
       "      <th>installment</th>\n",
       "      <th>grade</th>\n",
       "      <th>sub_grade</th>\n",
       "      <th>emp_title</th>\n",
       "      <th>emp_length</th>\n",
       "      <th>...</th>\n",
       "      <th>open_acc</th>\n",
       "      <th>pub_rec</th>\n",
       "      <th>revol_bal</th>\n",
       "      <th>revol_util</th>\n",
       "      <th>total_acc</th>\n",
       "      <th>pub_rec_bankruptcies</th>\n",
       "      <th>issue_month</th>\n",
       "      <th>issue_year</th>\n",
       "      <th>no_of_days_from_earliest_cr_line</th>\n",
       "      <th>loan_status_num</th>\n",
       "    </tr>\n",
       "  </thead>\n",
       "  <tbody>\n",
       "    <tr>\n",
       "      <th>0</th>\n",
       "      <td>5000</td>\n",
       "      <td>5000</td>\n",
       "      <td>4975.0</td>\n",
       "      <td>36 months</td>\n",
       "      <td>10.65</td>\n",
       "      <td>162.87</td>\n",
       "      <td>B</td>\n",
       "      <td>B2</td>\n",
       "      <td>NaN</td>\n",
       "      <td>10+ years</td>\n",
       "      <td>...</td>\n",
       "      <td>3</td>\n",
       "      <td>0</td>\n",
       "      <td>13648</td>\n",
       "      <td>83.7</td>\n",
       "      <td>9</td>\n",
       "      <td>0.0</td>\n",
       "      <td>12</td>\n",
       "      <td>2011</td>\n",
       "      <td>14476</td>\n",
       "      <td>0</td>\n",
       "    </tr>\n",
       "    <tr>\n",
       "      <th>1</th>\n",
       "      <td>2500</td>\n",
       "      <td>2500</td>\n",
       "      <td>2500.0</td>\n",
       "      <td>60 months</td>\n",
       "      <td>15.27</td>\n",
       "      <td>59.83</td>\n",
       "      <td>C</td>\n",
       "      <td>C4</td>\n",
       "      <td>Ryder</td>\n",
       "      <td>&lt; 1 year</td>\n",
       "      <td>...</td>\n",
       "      <td>3</td>\n",
       "      <td>0</td>\n",
       "      <td>1687</td>\n",
       "      <td>9.4</td>\n",
       "      <td>4</td>\n",
       "      <td>0.0</td>\n",
       "      <td>12</td>\n",
       "      <td>2011</td>\n",
       "      <td>9273</td>\n",
       "      <td>1</td>\n",
       "    </tr>\n",
       "    <tr>\n",
       "      <th>2</th>\n",
       "      <td>2400</td>\n",
       "      <td>2400</td>\n",
       "      <td>2400.0</td>\n",
       "      <td>36 months</td>\n",
       "      <td>15.96</td>\n",
       "      <td>84.33</td>\n",
       "      <td>C</td>\n",
       "      <td>C5</td>\n",
       "      <td>NaN</td>\n",
       "      <td>10+ years</td>\n",
       "      <td>...</td>\n",
       "      <td>2</td>\n",
       "      <td>0</td>\n",
       "      <td>2956</td>\n",
       "      <td>98.5</td>\n",
       "      <td>10</td>\n",
       "      <td>0.0</td>\n",
       "      <td>12</td>\n",
       "      <td>2011</td>\n",
       "      <td>8328</td>\n",
       "      <td>0</td>\n",
       "    </tr>\n",
       "    <tr>\n",
       "      <th>3</th>\n",
       "      <td>10000</td>\n",
       "      <td>10000</td>\n",
       "      <td>10000.0</td>\n",
       "      <td>36 months</td>\n",
       "      <td>13.49</td>\n",
       "      <td>339.31</td>\n",
       "      <td>C</td>\n",
       "      <td>C1</td>\n",
       "      <td>AIR RESOURCES BOARD</td>\n",
       "      <td>10+ years</td>\n",
       "      <td>...</td>\n",
       "      <td>10</td>\n",
       "      <td>0</td>\n",
       "      <td>5598</td>\n",
       "      <td>21.0</td>\n",
       "      <td>37</td>\n",
       "      <td>0.0</td>\n",
       "      <td>12</td>\n",
       "      <td>2011</td>\n",
       "      <td>10428</td>\n",
       "      <td>0</td>\n",
       "    </tr>\n",
       "    <tr>\n",
       "      <th>5</th>\n",
       "      <td>5000</td>\n",
       "      <td>5000</td>\n",
       "      <td>5000.0</td>\n",
       "      <td>36 months</td>\n",
       "      <td>7.90</td>\n",
       "      <td>156.46</td>\n",
       "      <td>A</td>\n",
       "      <td>A4</td>\n",
       "      <td>Veolia Transportaton</td>\n",
       "      <td>3 years</td>\n",
       "      <td>...</td>\n",
       "      <td>9</td>\n",
       "      <td>0</td>\n",
       "      <td>7963</td>\n",
       "      <td>28.3</td>\n",
       "      <td>12</td>\n",
       "      <td>0.0</td>\n",
       "      <td>12</td>\n",
       "      <td>2011</td>\n",
       "      <td>7232</td>\n",
       "      <td>0</td>\n",
       "    </tr>\n",
       "  </tbody>\n",
       "</table>\n",
       "<p>5 rows × 30 columns</p>\n",
       "</div>"
      ],
      "text/plain": [
       "   loan_amnt  funded_amnt  funded_amnt_inv        term  int_rate  installment  \\\n",
       "0       5000         5000           4975.0   36 months     10.65       162.87   \n",
       "1       2500         2500           2500.0   60 months     15.27        59.83   \n",
       "2       2400         2400           2400.0   36 months     15.96        84.33   \n",
       "3      10000        10000          10000.0   36 months     13.49       339.31   \n",
       "5       5000         5000           5000.0   36 months      7.90       156.46   \n",
       "\n",
       "  grade sub_grade             emp_title emp_length  ... open_acc  pub_rec  \\\n",
       "0     B        B2                   NaN  10+ years  ...        3        0   \n",
       "1     C        C4                 Ryder   < 1 year  ...        3        0   \n",
       "2     C        C5                   NaN  10+ years  ...        2        0   \n",
       "3     C        C1   AIR RESOURCES BOARD  10+ years  ...       10        0   \n",
       "5     A        A4  Veolia Transportaton    3 years  ...        9        0   \n",
       "\n",
       "  revol_bal revol_util total_acc pub_rec_bankruptcies issue_month  issue_year  \\\n",
       "0     13648       83.7         9                  0.0          12        2011   \n",
       "1      1687        9.4         4                  0.0          12        2011   \n",
       "2      2956       98.5        10                  0.0          12        2011   \n",
       "3      5598       21.0        37                  0.0          12        2011   \n",
       "5      7963       28.3        12                  0.0          12        2011   \n",
       "\n",
       "   no_of_days_from_earliest_cr_line  loan_status_num  \n",
       "0                             14476                0  \n",
       "1                              9273                1  \n",
       "2                              8328                0  \n",
       "3                             10428                0  \n",
       "5                              7232                0  \n",
       "\n",
       "[5 rows x 30 columns]"
      ]
     },
     "execution_count": 75,
     "metadata": {},
     "output_type": "execute_result"
    }
   ],
   "source": [
    "loan.head()"
   ]
  },
  {
   "cell_type": "code",
   "execution_count": 76,
   "id": "a777940b-ce4d-488c-93e8-478226793b99",
   "metadata": {
    "id": "a777940b-ce4d-488c-93e8-478226793b99"
   },
   "outputs": [],
   "source": [
    "# sns.set_style(\"whitegrid\")\n",
    "# sns.clustermap(data=loan.corr(), cmap='YlGnBu', figsize=(12,12))\n",
    "# plt.show()"
   ]
  },
  {
   "cell_type": "markdown",
   "id": "ea28138f-f34b-40b5-bda1-e300fac2bc82",
   "metadata": {
    "id": "ea28138f-f34b-40b5-bda1-e300fac2bc82"
   },
   "source": [
    "### Analysing loan amount vs loan status"
   ]
  },
  {
   "cell_type": "code",
   "execution_count": 78,
   "id": "0029f209-79d0-4c13-85ae-9cd26b7c1b57",
   "metadata": {
    "id": "0029f209-79d0-4c13-85ae-9cd26b7c1b57",
    "outputId": "9bf34628-4bed-40c0-d2fc-bf5b4356f221"
   },
   "outputs": [
    {
     "data": {
      "text/plain": [
       "count    38577.000000\n",
       "mean     11047.025430\n",
       "std       7348.441646\n",
       "min        500.000000\n",
       "25%       5300.000000\n",
       "50%       9600.000000\n",
       "75%      15000.000000\n",
       "max      35000.000000\n",
       "Name: loan_amnt, dtype: float64"
      ]
     },
     "execution_count": 78,
     "metadata": {},
     "output_type": "execute_result"
    }
   ],
   "source": [
    "loan['loan_amnt'].describe()"
   ]
  },
  {
   "cell_type": "code",
   "execution_count": 79,
   "id": "aa967404-20ed-4478-89fc-02ab290b86bf",
   "metadata": {
    "id": "aa967404-20ed-4478-89fc-02ab290b86bf",
    "outputId": "3c886976-5e23-46b1-abe0-f6affde876e0"
   },
   "outputs": [
    {
     "data": {
      "image/png": "[encoded data removed]",
      "text/plain": [
       "<Figure size 1200x800 with 1 Axes>"
      ]
     },
     "metadata": {},
     "output_type": "display_data"
    }
   ],
   "source": [
    "plt.figure(figsize=(12, 8))\n",
    "plt.subplot(2,2,1)\n",
    "order = ['Fully Paid','Charged Off']\n",
    "sns.boxplot(x = 'loan_status', y = 'loan_amnt', data = loan)\n",
    "plt.show()"
   ]
  },
  {
   "cell_type": "code",
   "execution_count": 80,
   "id": "1f539d07-378d-4c23-b1b1-69736a60733d",
   "metadata": {
    "id": "1f539d07-378d-4c23-b1b1-69736a60733d"
   },
   "outputs": [],
   "source": [
    "# since we see there is huge difference between mean and median . let us limit our data to 75% quartile"
   ]
  },
  {
   "cell_type": "markdown",
   "id": "bdd8d4f6-043f-4985-8031-e8da5e0f4310",
   "metadata": {
    "id": "bdd8d4f6-043f-4985-8031-e8da5e0f4310"
   },
   "source": [
    "#### Analysing for less than 75% quartile"
   ]
  },
  {
   "cell_type": "code",
   "execution_count": 82,
   "id": "4e1b0b0a-5e81-47a4-8117-afca26d2a306",
   "metadata": {
    "id": "4e1b0b0a-5e81-47a4-8117-afca26d2a306",
    "outputId": "85aa8076-bfff-4471-cc92-ddedb163354b"
   },
   "outputs": [
    {
     "data": {
      "text/plain": [
       "loan_status\n",
       "Fully Paid     25946\n",
       "Charged Off     4011\n",
       "Name: count, dtype: int64"
      ]
     },
     "execution_count": 82,
     "metadata": {},
     "output_type": "execute_result"
    }
   ],
   "source": [
    "loan_till75 = loan.loc[(loan['loan_amnt']<=15000)]\n",
    "loan_till75['loan_status'].value_counts()"
   ]
  },
  {
   "cell_type": "code",
   "execution_count": 83,
   "id": "ef279c0e-776d-42a6-9d4b-8fb27ad8de91",
   "metadata": {
    "id": "ef279c0e-776d-42a6-9d4b-8fb27ad8de91",
    "outputId": "ecb1640a-e14b-4ed3-8a9a-abf8450c6649"
   },
   "outputs": [
    {
     "data": {
      "image/png": "[encoded data removed]",
      "text/plain": [
       "<Figure size 1200x800 with 1 Axes>"
      ]
     },
     "metadata": {},
     "output_type": "display_data"
    }
   ],
   "source": [
    "plt.figure(figsize=(12, 8))\n",
    "plt.subplot(2,2,1)\n",
    "sns.boxplot(x = 'loan_status', y = 'loan_amnt', data = loan_till75)\n",
    "plt.show()"
   ]
  },
  {
   "cell_type": "markdown",
   "id": "470770e9-94ce-4bf1-9c87-b52362e264e1",
   "metadata": {
    "id": "470770e9-94ce-4bf1-9c87-b52362e264e1"
   },
   "source": [
    "#### Analysing for more than 75% quartile"
   ]
  },
  {
   "cell_type": "code",
   "execution_count": 85,
   "id": "67d53f7b-6e82-4520-8bcc-e48f05770f73",
   "metadata": {
    "id": "67d53f7b-6e82-4520-8bcc-e48f05770f73",
    "outputId": "447e8f3c-e8a9-44e5-b1d9-02c6216d9298"
   },
   "outputs": [
    {
     "data": {
      "text/plain": [
       "loan_status\n",
       "Fully Paid     8583\n",
       "Charged Off    1875\n",
       "Name: count, dtype: int64"
      ]
     },
     "execution_count": 85,
     "metadata": {},
     "output_type": "execute_result"
    }
   ],
   "source": [
    "loan_above75 = loan.loc[(loan['loan_amnt']>=15000)]\n",
    "loan_above75['loan_status'].value_counts()"
   ]
  },
  {
   "cell_type": "code",
   "execution_count": 86,
   "id": "571a228d-4875-4a6d-a7c9-a06837b70e69",
   "metadata": {
    "id": "571a228d-4875-4a6d-a7c9-a06837b70e69",
    "outputId": "48e58489-8928-4053-f2e6-0209d6c191e6"
   },
   "outputs": [
    {
     "data": {
      "image/png": "[encoded data removed]",
      "text/plain": [
       "<Figure size 1200x800 with 1 Axes>"
      ]
     },
     "metadata": {},
     "output_type": "display_data"
    }
   ],
   "source": [
    "plt.figure(figsize=(12, 8))\n",
    "plt.subplot(2,2,1)\n",
    "sns.boxplot(x = 'loan_status', y = 'loan_amnt', data = loan_above75)\n",
    "plt.show()"
   ]
  },
  {
   "cell_type": "code",
   "execution_count": 87,
   "id": "05deff9d-dff6-4678-8a17-fe865a39ad0e",
   "metadata": {
    "id": "05deff9d-dff6-4678-8a17-fe865a39ad0e"
   },
   "outputs": [],
   "source": [
    "### If we compare both below 75% and above 75% quartile, percentage of defaulters more when the loan amount is more than 75% quartile."
   ]
  },
  {
   "cell_type": "markdown",
   "id": "51e6b546-f53e-4f87-9066-d95d6d84d1e9",
   "metadata": {
    "id": "51e6b546-f53e-4f87-9066-d95d6d84d1e9"
   },
   "source": [
    "#### Common Function:"
   ]
  },
  {
   "cell_type": "code",
   "execution_count": 89,
   "id": "ec5637da-5fdb-479f-b36e-aad80f46eb3b",
   "metadata": {
    "id": "ec5637da-5fdb-479f-b36e-aad80f46eb3b"
   },
   "outputs": [],
   "source": [
    "# A common method to categorize column data into 3 bins [Low, Medium, High] 100% equal split into 3 bins is 33.333\n",
    "def qcutpercentile (*, data=loan, column, trailer=''):\n",
    "    new_column = column + '_p'\n",
    "    labels = ['Low','Medium','High']\n",
    "    labels = [labels[p] + '(' +\n",
    "              str(round(np.nanpercentile(data[column], p * 33.33),2)) +\n",
    "              trailer + ' - ' +\n",
    "              str(round(np.nanpercentile(data[column], (p+1) * 33.33),2)) +\n",
    "              trailer + ')'\n",
    "              for p in range(3)]\n",
    "    data[new_column] = pd.qcut(data[column], q=3, labels=labels)"
   ]
  },
  {
   "cell_type": "code",
   "execution_count": 90,
   "id": "189e6537-93f9-4160-8154-868a4b2badfe",
   "metadata": {
    "id": "189e6537-93f9-4160-8154-868a4b2badfe",
    "outputId": "b50dec25-a106-4572-b860-2ea06bba7894"
   },
   "outputs": [
    {
     "data": {
      "image/png": "[encoded data removed]",
      "text/plain": [
       "<Figure size 600x400 with 1 Axes>"
      ]
     },
     "metadata": {},
     "output_type": "display_data"
    }
   ],
   "source": [
    "fig, ax = plt.subplots(figsize=(6, 4))\n",
    "hue_order = list(['Fully Paid', 'Charged Off'])\n",
    "sns.countplot(data=loan, y='term', hue='loan_status', hue_order=hue_order, order=loan['term'].value_counts().index)\n",
    "plt.show()"
   ]
  },
  {
   "cell_type": "markdown",
   "id": "d19b7b25-6bb2-4822-832c-f296a9f99ee8",
   "metadata": {
    "id": "d19b7b25-6bb2-4822-832c-f296a9f99ee8"
   },
   "source": [
    "##### Installment for 3 years is less defaulters, Installment for 5 years is higher the defaulters."
   ]
  },
  {
   "cell_type": "code",
   "execution_count": 92,
   "id": "33689c72-7bdb-4c93-bd9c-e9e37dc75dce",
   "metadata": {
    "id": "33689c72-7bdb-4c93-bd9c-e9e37dc75dce",
    "outputId": "75da9a2c-4b41-4643-d3e9-36032f85a98f"
   },
   "outputs": [
    {
     "data": {
      "image/png": "[encoded data removed]",
      "text/plain": [
       "<Figure size 600x400 with 1 Axes>"
      ]
     },
     "metadata": {},
     "output_type": "display_data"
    }
   ],
   "source": [
    "fig, ax = plt.subplots(figsize=(6, 4))\n",
    "hue_order = list(['Fully Paid', 'Charged Off'])\n",
    "sns.countplot(data=loan, y='purpose', hue='loan_status', hue_order=hue_order, order=loan['purpose'].value_counts().index)\n",
    "plt.show()"
   ]
  },
  {
   "cell_type": "markdown",
   "id": "a753a916-e7b8-4fd8-8f33-1dbfbebbe13b",
   "metadata": {
    "id": "a753a916-e7b8-4fd8-8f33-1dbfbebbe13b"
   },
   "source": [
    "##### Approving loans for small business purpose is reskier."
   ]
  },
  {
   "cell_type": "code",
   "execution_count": 94,
   "id": "c67b0ef2-713d-4c08-804d-03ff2104b557",
   "metadata": {
    "id": "c67b0ef2-713d-4c08-804d-03ff2104b557",
    "outputId": "70ed76c0-2398-4625-9d14-2af3705add43"
   },
   "outputs": [
    {
     "data": {
      "image/png": "[encoded data removed]",
      "text/plain": [
       "<Figure size 600x400 with 1 Axes>"
      ]
     },
     "metadata": {},
     "output_type": "display_data"
    }
   ],
   "source": [
    "fig, ax = plt.subplots(figsize=(6, 4))\n",
    "hue_order = list(['Fully Paid', 'Charged Off'])\n",
    "sns.countplot(data=loan, y='issue_month', hue='loan_status', hue_order=hue_order, order=loan['issue_month'].value_counts().index)\n",
    "plt.show()"
   ]
  },
  {
   "cell_type": "markdown",
   "id": "ce8d5f98-a44a-4339-a184-7218e203e9e5",
   "metadata": {
    "id": "ce8d5f98-a44a-4339-a184-7218e203e9e5"
   },
   "source": [
    "##### December month shows higher defaulters, also applicants are more during december month."
   ]
  },
  {
   "cell_type": "code",
   "execution_count": 96,
   "id": "cd3cb33a-028e-4bbb-b8ec-52dce3c41e00",
   "metadata": {
    "id": "cd3cb33a-028e-4bbb-b8ec-52dce3c41e00",
    "outputId": "b5961e89-29b6-4c11-e333-6e08b8b698df"
   },
   "outputs": [
    {
     "data": {
      "image/png": "[encoded data removed]",
      "text/plain": [
       "<Figure size 600x400 with 1 Axes>"
      ]
     },
     "metadata": {},
     "output_type": "display_data"
    }
   ],
   "source": [
    "qcutpercentile(column='loan_amnt')\n",
    "\n",
    "fig, ax = plt.subplots(figsize=(6, 4))\n",
    "hue_order = list(['Fully Paid', 'Charged Off'])\n",
    "sns.countplot(data=loan, y='loan_amnt_p', hue='loan_status', hue_order=hue_order, order=loan['loan_amnt_p'].value_counts().index)\n",
    "plt.show()"
   ]
  },
  {
   "cell_type": "markdown",
   "id": "0fc70d63-c8eb-44b8-9a4c-cd3de4513e6b",
   "metadata": {
    "id": "0fc70d63-c8eb-44b8-9a4c-cd3de4513e6b"
   },
   "source": [
    "##### From graph it represents, Greater the chance of getting default if amount is higher."
   ]
  },
  {
   "cell_type": "code",
   "execution_count": 98,
   "id": "5285abb4-85f6-4eb5-856b-ededf94dfc24",
   "metadata": {
    "id": "5285abb4-85f6-4eb5-856b-ededf94dfc24",
    "outputId": "e411a5e8-2edb-4f8e-dc73-c57da13d0191"
   },
   "outputs": [
    {
     "data": {
      "image/png": "[encoded data removed]",
      "text/plain": [
       "<Figure size 600x400 with 1 Axes>"
      ]
     },
     "metadata": {},
     "output_type": "display_data"
    }
   ],
   "source": [
    "qcutpercentile(column='int_rate', trailer='%')\n",
    "\n",
    "fig, ax = plt.subplots(figsize=(6, 4))\n",
    "hue_order = list(['Fully Paid', 'Charged Off'])\n",
    "sns.countplot(data=loan, y='int_rate_p', hue='loan_status', hue_order=hue_order, order=loan['int_rate_p'].value_counts().index)\n",
    "plt.show()"
   ]
  },
  {
   "cell_type": "markdown",
   "id": "df615197-5b2e-476b-940e-07f5afce0c8e",
   "metadata": {
    "id": "df615197-5b2e-476b-940e-07f5afce0c8e"
   },
   "source": [
    "##### From graph it represents, Greater the chance of getting default if interest is higher."
   ]
  },
  {
   "cell_type": "code",
   "execution_count": 100,
   "id": "1b7786ca-d3ac-4f2c-b8e0-91b5a59d1bd8",
   "metadata": {
    "id": "1b7786ca-d3ac-4f2c-b8e0-91b5a59d1bd8",
    "outputId": "4d923c2c-0e10-4ac9-9c0d-a8b58cab211d"
   },
   "outputs": [
    {
     "data": {
      "image/png": "[encoded data removed]",
      "text/plain": [
       "<Figure size 600x400 with 1 Axes>"
      ]
     },
     "metadata": {},
     "output_type": "display_data"
    }
   ],
   "source": [
    "qcutpercentile(column='installment', trailer='%')\n",
    "\n",
    "fig, ax = plt.subplots(figsize=(6, 4))\n",
    "hue_order = list(['Fully Paid', 'Charged Off'])\n",
    "sns.countplot(data=loan, y='installment_p', hue='loan_status', hue_order=hue_order, order=loan['installment_p'].value_counts().index)\n",
    "plt.show()"
   ]
  },
  {
   "cell_type": "markdown",
   "id": "658aa756-df87-4f67-8328-bd9be2cf5d97",
   "metadata": {
    "id": "658aa756-df87-4f67-8328-bd9be2cf5d97"
   },
   "source": [
    "##### From graph it represents, Greater the chance of getting default if number of installments is higher."
   ]
  },
  {
   "cell_type": "code",
   "execution_count": 102,
   "id": "a16c84d9-3081-4f2e-8ef5-f9e28d54dd63",
   "metadata": {
    "id": "a16c84d9-3081-4f2e-8ef5-f9e28d54dd63",
    "outputId": "2ea8332a-6029-431a-f62a-3d9bbc419a0b"
   },
   "outputs": [
    {
     "data": {
      "image/png": "[encoded data removed]",
      "text/plain": [
       "<Figure size 600x400 with 1 Axes>"
      ]
     },
     "metadata": {},
     "output_type": "display_data"
    }
   ],
   "source": [
    "qcutpercentile(column='annual_inc', trailer='%')\n",
    "\n",
    "fig, ax = plt.subplots(figsize=(6, 4))\n",
    "hue_order = list(['Fully Paid', 'Charged Off'])\n",
    "sns.countplot(data=loan, y='annual_inc_p', hue='loan_status', hue_order=hue_order, order=loan['annual_inc_p'].value_counts().index)\n",
    "plt.show()"
   ]
  },
  {
   "cell_type": "markdown",
   "id": "1730727d-19ac-4baf-b86c-b6d84f37a90f",
   "metadata": {
    "id": "1730727d-19ac-4baf-b86c-b6d84f37a90f"
   },
   "source": [
    "##### From graph it represents, Higher the income, higher the repayment percentage and lower the income higher the defaulters"
   ]
  },
  {
   "cell_type": "markdown",
   "id": "913ab851-6c9b-40cf-87d8-49d4f847700f",
   "metadata": {
    "id": "913ab851-6c9b-40cf-87d8-49d4f847700f"
   },
   "source": [
    "## Bivariate Analysis"
   ]
  },
  {
   "cell_type": "markdown",
   "id": "a60a3496-cabf-45c3-a09a-8f0aee78dd80",
   "metadata": {
    "id": "a60a3496-cabf-45c3-a09a-8f0aee78dd80"
   },
   "source": [
    "##### Till now we have observed how loan status is influnced by different individual variables."
   ]
  },
  {
   "cell_type": "markdown",
   "id": "f1f392a5-5225-49d8-bef0-eb6e3d20a8a9",
   "metadata": {
    "id": "f1f392a5-5225-49d8-bef0-eb6e3d20a8a9"
   },
   "source": [
    "##### Now, analysing how combined variables are impacting to loan status"
   ]
  },
  {
   "cell_type": "code",
   "execution_count": 107,
   "id": "8755f397-64e7-42a2-b20f-4b9b71499848",
   "metadata": {
    "id": "8755f397-64e7-42a2-b20f-4b9b71499848",
    "outputId": "c9080817-4453-4ed6-d21a-bb13f37dffe5"
   },
   "outputs": [
    {
     "data": {
      "text/plain": [
       "Index(['loan_amnt', 'funded_amnt', 'funded_amnt_inv', 'term', 'int_rate',\n",
       "       'installment', 'grade', 'sub_grade', 'emp_title', 'emp_length',\n",
       "       'home_ownership', 'annual_inc', 'verification_status', 'issue_d',\n",
       "       'loan_status', 'purpose', 'addr_state', 'dti', 'delinq_2yrs',\n",
       "       'inq_last_6mths', 'open_acc', 'pub_rec', 'revol_bal', 'revol_util',\n",
       "       'total_acc', 'pub_rec_bankruptcies', 'issue_month', 'issue_year',\n",
       "       'no_of_days_from_earliest_cr_line', 'loan_status_num', 'loan_amnt_p',\n",
       "       'int_rate_p', 'installment_p', 'annual_inc_p'],\n",
       "      dtype='object')"
      ]
     },
     "execution_count": 107,
     "metadata": {},
     "output_type": "execute_result"
    }
   ],
   "source": [
    "loan.columns"
   ]
  },
  {
   "cell_type": "code",
   "execution_count": 108,
   "id": "bbd1b498-a73e-48df-a075-383ae01391ac",
   "metadata": {
    "id": "bbd1b498-a73e-48df-a075-383ae01391ac",
    "outputId": "38c30907-689f-41c4-a74f-553b7a6a9852"
   },
   "outputs": [
    {
     "data": {
      "image/png": "[encoded data removed]",
      "text/plain": [
       "<Figure size 600x400 with 2 Axes>"
      ]
     },
     "metadata": {},
     "output_type": "display_data"
    }
   ],
   "source": [
    "fig, ax = plt.subplots(figsize=(6,4))\n",
    "pt = pd.pivot_table(data=loan, values='loan_status_num', index='purpose', columns='home_ownership')\n",
    "sns.heatmap(pt, ax=ax, cmap='viridis')\n",
    "plt.show()"
   ]
  },
  {
   "cell_type": "markdown",
   "id": "d472529a-ded7-4ad9-a05d-a0e811b2b4a1",
   "metadata": {
    "id": "d472529a-ded7-4ad9-a05d-a0e811b2b4a1"
   },
   "source": [
    "##### The intersection of home ownership (OTHER) and purpose (Moving) has the darker color represents riskier\n",
    "- OTHER with small business, moving, car purpose is risker"
   ]
  },
  {
   "cell_type": "code",
   "execution_count": 110,
   "id": "4db9ff42-f07c-477e-8594-5464e2bc6315",
   "metadata": {
    "id": "4db9ff42-f07c-477e-8594-5464e2bc6315",
    "outputId": "d6d1b044-6a61-491c-e80e-26db06c2418e"
   },
   "outputs": [
    {
     "data": {
      "image/png": "[encoded data removed]",
      "text/plain": [
       "<Figure size 1000x400 with 2 Axes>"
      ]
     },
     "metadata": {},
     "output_type": "display_data"
    }
   ],
   "source": [
    "qcutpercentile(column='dti')\n",
    "fig, ax = plt.subplots(figsize=(10,4))\n",
    "pt = pd.pivot_table(data=loan, values='loan_status_num', index='annual_inc_p', columns='dti_p')\n",
    "sns.heatmap(pt, ax=ax, cmap='viridis')\n",
    "plt.show()"
   ]
  },
  {
   "cell_type": "markdown",
   "id": "baecd5ae-fd8e-4a5b-8d98-84f39178715b",
   "metadata": {
    "id": "baecd5ae-fd8e-4a5b-8d98-84f39178715b"
   },
   "source": [
    "##### From above, observation: Medium to High debt to income vs lower the annual income risk is higher."
   ]
  },
  {
   "cell_type": "code",
   "execution_count": 112,
   "id": "65888d40-62bb-4a00-b779-0a543bc5e222",
   "metadata": {
    "id": "65888d40-62bb-4a00-b779-0a543bc5e222",
    "outputId": "0efd4929-0c4c-4ffa-dd49-e7806c9889cc"
   },
   "outputs": [
    {
     "data": {
      "image/png": "[encoded data removed]",
      "text/plain": [
       "<Figure size 1000x400 with 2 Axes>"
      ]
     },
     "metadata": {},
     "output_type": "display_data"
    }
   ],
   "source": [
    "fig, ax = plt.subplots(figsize=(10,4))\n",
    "pt = pd.pivot_table(data=loan, values='loan_status_num', index='annual_inc_p', columns='purpose')\n",
    "sns.heatmap(pt, ax=ax, cmap='viridis')\n",
    "plt.show()"
   ]
  },
  {
   "cell_type": "markdown",
   "id": "9cbbf174-ff67-424f-b4fa-8dffaabadfec",
   "metadata": {
    "id": "9cbbf174-ff67-424f-b4fa-8dffaabadfec"
   },
   "source": [
    "##### Applicant with medium income applying loan for small business purpose is very risky.\n",
    "##### Applicant with high income applying loan for car, credit_card, major_purchase, home_improvement, vacation, wedding purpose less risky."
   ]
  },
  {
   "cell_type": "code",
   "execution_count": null,
   "id": "1dbc4d48-6b85-47f9-b176-e0268ed5f837",
   "metadata": {
    "id": "1dbc4d48-6b85-47f9-b176-e0268ed5f837"
   },
   "outputs": [],
   "source": []
  }
 ],
 "metadata": {
  "colab": {
   "provenance": []
  },
  "kernelspec": {
   "display_name": "Python 3 (ipykernel)",
   "language": "python",
   "name": "python3"
  },
  "language_info": {
   "codemirror_mode": {
    "name": "ipython",
    "version": 3
   },
   "file_extension": ".py",
   "mimetype": "text/x-python",
   "name": "python",
   "nbconvert_exporter": "python",
   "pygments_lexer": "ipython3",
   "version": "3.12.4"
  }
 },
 "nbformat": 4,
 "nbformat_minor": 5
}
